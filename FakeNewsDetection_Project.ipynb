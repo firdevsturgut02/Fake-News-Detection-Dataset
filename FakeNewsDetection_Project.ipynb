{
  "cells": [
    {
      "cell_type": "markdown",
      "metadata": {
        "id": "view-in-github",
        "colab_type": "text"
      },
      "source": [
        "<a href=\"https://colab.research.google.com/github/firdevsturgut02/Fake-News-Detection-Dataset/blob/main/FakeNewsDetection_Project.ipynb\" target=\"_parent\"><img src=\"https://colab.research.google.com/assets/colab-badge.svg\" alt=\"Open In Colab\"/></a>"
      ]
    },
    {
      "cell_type": "markdown",
      "id": "4120abdb-2025-4e37-918f-85f61c86d538",
      "metadata": {
        "tags": [],
        "id": "4120abdb-2025-4e37-918f-85f61c86d538"
      },
      "source": [
        "# Fake News Detection using Machine Learning"
      ]
    },
    {
      "cell_type": "markdown",
      "id": "78c22073-7226-41e2-b4a6-1efcf626a1e6",
      "metadata": {
        "id": "78c22073-7226-41e2-b4a6-1efcf626a1e6"
      },
      "source": [
        "### Importing Libraries"
      ]
    },
    {
      "cell_type": "code",
      "execution_count": null,
      "id": "2afad883-db6c-4105-8e90-564f2fee8a4a",
      "metadata": {
        "tags": [],
        "id": "2afad883-db6c-4105-8e90-564f2fee8a4a"
      },
      "outputs": [],
      "source": [
        "import pandas as pd  # Used for data manipulation and creating/managing DataFrames\n",
        "import numpy as np  # Provides support for numerical computing and array operations\n",
        "import seaborn as sns  # Used for statistical data visualization (e.g., heatmaps, distributions)\n",
        "import matplotlib.pyplot as plt  # Provides tools for creating plots and visualizations\n",
        "from sklearn.model_selection import train_test_split  # Splits the dataset into training and testing sets\n",
        "from sklearn.metrics import accuracy_score, classification_report, confusion_matrix, log_loss  # Metrics for model evaluation\n",
        "from sklearn.linear_model import LogisticRegression  # Implements the Logistic Regression model for classification\n",
        "from sklearn.tree import DecisionTreeClassifier  # Implements the Decision Tree model for classification tasks\n",
        "from sklearn.ensemble import RandomForestClassifier, GradientBoostingClassifier  # Used for Random Forest and Gradient Boosting models.\n",
        "from tabulate import tabulate  # For displaying tables in a clean format\n",
        "from sklearn.feature_extraction.text import TfidfVectorizer  # Converts text data into numerical features using TF-IDF\n",
        "from sklearn.feature_extraction.text import CountVectorizer  # Converts text data into numerical features using word counts\n",
        "import re  # Provides regular expressions for pattern matching and text preprocessing\n",
        "import string  # Useful for string operations, such as removing punctuation"
      ]
    },
    {
      "cell_type": "markdown",
      "id": "2f0ec04e-8034-4398-a118-ab2c4c4d38ab",
      "metadata": {
        "id": "2f0ec04e-8034-4398-a118-ab2c4c4d38ab"
      },
      "source": [
        "### Loading Datasets"
      ]
    },
    {
      "cell_type": "code",
      "execution_count": null,
      "id": "95e0af32-ffb2-43a4-b913-36b3e41b84fa",
      "metadata": {
        "tags": [],
        "id": "95e0af32-ffb2-43a4-b913-36b3e41b84fa"
      },
      "outputs": [],
      "source": [
        "data_fake = pd.read_csv(\"Fake.csv\")  # Fake news dataset\n",
        "data_true = pd.read_csv(\"True.csv\")  # True news dataset"
      ]
    },
    {
      "cell_type": "markdown",
      "id": "b9878b04-c3f3-40bd-89fc-32146b938dca",
      "metadata": {
        "id": "b9878b04-c3f3-40bd-89fc-32146b938dca"
      },
      "source": [
        "### Data Preview"
      ]
    },
    {
      "cell_type": "code",
      "execution_count": null,
      "id": "870cfa08-8a08-4ad6-8f33-938643869987",
      "metadata": {
        "tags": [],
        "id": "870cfa08-8a08-4ad6-8f33-938643869987",
        "outputId": "41a97bd8-b4bc-47d7-8eec-81e6014b3f62"
      },
      "outputs": [
        {
          "data": {
            "text/html": [
              "<div>\n",
              "<style scoped>\n",
              "    .dataframe tbody tr th:only-of-type {\n",
              "        vertical-align: middle;\n",
              "    }\n",
              "\n",
              "    .dataframe tbody tr th {\n",
              "        vertical-align: top;\n",
              "    }\n",
              "\n",
              "    .dataframe thead th {\n",
              "        text-align: right;\n",
              "    }\n",
              "</style>\n",
              "<table border=\"1\" class=\"dataframe\">\n",
              "  <thead>\n",
              "    <tr style=\"text-align: right;\">\n",
              "      <th></th>\n",
              "      <th>title</th>\n",
              "      <th>text</th>\n",
              "      <th>subject</th>\n",
              "      <th>date</th>\n",
              "    </tr>\n",
              "  </thead>\n",
              "  <tbody>\n",
              "    <tr>\n",
              "      <th>0</th>\n",
              "      <td>Donald Trump Sends Out Embarrassing New Year’...</td>\n",
              "      <td>Donald Trump just couldn t wish all Americans ...</td>\n",
              "      <td>News</td>\n",
              "      <td>December 31, 2017</td>\n",
              "    </tr>\n",
              "    <tr>\n",
              "      <th>1</th>\n",
              "      <td>Drunk Bragging Trump Staffer Started Russian ...</td>\n",
              "      <td>House Intelligence Committee Chairman Devin Nu...</td>\n",
              "      <td>News</td>\n",
              "      <td>December 31, 2017</td>\n",
              "    </tr>\n",
              "    <tr>\n",
              "      <th>2</th>\n",
              "      <td>Sheriff David Clarke Becomes An Internet Joke...</td>\n",
              "      <td>On Friday, it was revealed that former Milwauk...</td>\n",
              "      <td>News</td>\n",
              "      <td>December 30, 2017</td>\n",
              "    </tr>\n",
              "    <tr>\n",
              "      <th>3</th>\n",
              "      <td>Trump Is So Obsessed He Even Has Obama’s Name...</td>\n",
              "      <td>On Christmas day, Donald Trump announced that ...</td>\n",
              "      <td>News</td>\n",
              "      <td>December 29, 2017</td>\n",
              "    </tr>\n",
              "    <tr>\n",
              "      <th>4</th>\n",
              "      <td>Pope Francis Just Called Out Donald Trump Dur...</td>\n",
              "      <td>Pope Francis used his annual Christmas Day mes...</td>\n",
              "      <td>News</td>\n",
              "      <td>December 25, 2017</td>\n",
              "    </tr>\n",
              "  </tbody>\n",
              "</table>\n",
              "</div>"
            ],
            "text/plain": [
              "                                               title  \\\n",
              "0   Donald Trump Sends Out Embarrassing New Year’...   \n",
              "1   Drunk Bragging Trump Staffer Started Russian ...   \n",
              "2   Sheriff David Clarke Becomes An Internet Joke...   \n",
              "3   Trump Is So Obsessed He Even Has Obama’s Name...   \n",
              "4   Pope Francis Just Called Out Donald Trump Dur...   \n",
              "\n",
              "                                                text subject  \\\n",
              "0  Donald Trump just couldn t wish all Americans ...    News   \n",
              "1  House Intelligence Committee Chairman Devin Nu...    News   \n",
              "2  On Friday, it was revealed that former Milwauk...    News   \n",
              "3  On Christmas day, Donald Trump announced that ...    News   \n",
              "4  Pope Francis used his annual Christmas Day mes...    News   \n",
              "\n",
              "                date  \n",
              "0  December 31, 2017  \n",
              "1  December 31, 2017  \n",
              "2  December 30, 2017  \n",
              "3  December 29, 2017  \n",
              "4  December 25, 2017  "
            ]
          },
          "execution_count": 11,
          "metadata": {},
          "output_type": "execute_result"
        }
      ],
      "source": [
        "data_fake.head() #Displaying the first 5 rows of fake news dataset"
      ]
    },
    {
      "cell_type": "code",
      "execution_count": null,
      "id": "fc573b6b-7a3d-49af-8278-119aedfe75dd",
      "metadata": {
        "tags": [],
        "id": "fc573b6b-7a3d-49af-8278-119aedfe75dd",
        "outputId": "b956372a-2e6b-455b-b32c-d45475d62991"
      },
      "outputs": [
        {
          "data": {
            "text/html": [
              "<div>\n",
              "<style scoped>\n",
              "    .dataframe tbody tr th:only-of-type {\n",
              "        vertical-align: middle;\n",
              "    }\n",
              "\n",
              "    .dataframe tbody tr th {\n",
              "        vertical-align: top;\n",
              "    }\n",
              "\n",
              "    .dataframe thead th {\n",
              "        text-align: right;\n",
              "    }\n",
              "</style>\n",
              "<table border=\"1\" class=\"dataframe\">\n",
              "  <thead>\n",
              "    <tr style=\"text-align: right;\">\n",
              "      <th></th>\n",
              "      <th>title</th>\n",
              "      <th>text</th>\n",
              "      <th>subject</th>\n",
              "      <th>date</th>\n",
              "    </tr>\n",
              "  </thead>\n",
              "  <tbody>\n",
              "    <tr>\n",
              "      <th>0</th>\n",
              "      <td>As U.S. budget fight looms, Republicans flip t...</td>\n",
              "      <td>WASHINGTON (Reuters) - The head of a conservat...</td>\n",
              "      <td>politicsNews</td>\n",
              "      <td>December 31, 2017</td>\n",
              "    </tr>\n",
              "    <tr>\n",
              "      <th>1</th>\n",
              "      <td>U.S. military to accept transgender recruits o...</td>\n",
              "      <td>WASHINGTON (Reuters) - Transgender people will...</td>\n",
              "      <td>politicsNews</td>\n",
              "      <td>December 29, 2017</td>\n",
              "    </tr>\n",
              "    <tr>\n",
              "      <th>2</th>\n",
              "      <td>Senior U.S. Republican senator: 'Let Mr. Muell...</td>\n",
              "      <td>WASHINGTON (Reuters) - The special counsel inv...</td>\n",
              "      <td>politicsNews</td>\n",
              "      <td>December 31, 2017</td>\n",
              "    </tr>\n",
              "    <tr>\n",
              "      <th>3</th>\n",
              "      <td>FBI Russia probe helped by Australian diplomat...</td>\n",
              "      <td>WASHINGTON (Reuters) - Trump campaign adviser ...</td>\n",
              "      <td>politicsNews</td>\n",
              "      <td>December 30, 2017</td>\n",
              "    </tr>\n",
              "    <tr>\n",
              "      <th>4</th>\n",
              "      <td>Trump wants Postal Service to charge 'much mor...</td>\n",
              "      <td>SEATTLE/WASHINGTON (Reuters) - President Donal...</td>\n",
              "      <td>politicsNews</td>\n",
              "      <td>December 29, 2017</td>\n",
              "    </tr>\n",
              "  </tbody>\n",
              "</table>\n",
              "</div>"
            ],
            "text/plain": [
              "                                               title  \\\n",
              "0  As U.S. budget fight looms, Republicans flip t...   \n",
              "1  U.S. military to accept transgender recruits o...   \n",
              "2  Senior U.S. Republican senator: 'Let Mr. Muell...   \n",
              "3  FBI Russia probe helped by Australian diplomat...   \n",
              "4  Trump wants Postal Service to charge 'much mor...   \n",
              "\n",
              "                                                text       subject  \\\n",
              "0  WASHINGTON (Reuters) - The head of a conservat...  politicsNews   \n",
              "1  WASHINGTON (Reuters) - Transgender people will...  politicsNews   \n",
              "2  WASHINGTON (Reuters) - The special counsel inv...  politicsNews   \n",
              "3  WASHINGTON (Reuters) - Trump campaign adviser ...  politicsNews   \n",
              "4  SEATTLE/WASHINGTON (Reuters) - President Donal...  politicsNews   \n",
              "\n",
              "                 date  \n",
              "0  December 31, 2017   \n",
              "1  December 29, 2017   \n",
              "2  December 31, 2017   \n",
              "3  December 30, 2017   \n",
              "4  December 29, 2017   "
            ]
          },
          "execution_count": 13,
          "metadata": {},
          "output_type": "execute_result"
        }
      ],
      "source": [
        "data_true.head() #Display the first 5 rows of true news dataset"
      ]
    },
    {
      "cell_type": "markdown",
      "id": "1793ef97-9f9e-4800-842c-4f59f0591c35",
      "metadata": {
        "id": "1793ef97-9f9e-4800-842c-4f59f0591c35"
      },
      "source": [
        "### Adding Class Labels"
      ]
    },
    {
      "cell_type": "code",
      "execution_count": null,
      "id": "0a31d27a-4208-4620-a377-3f38f9a87bbb",
      "metadata": {
        "tags": [],
        "id": "0a31d27a-4208-4620-a377-3f38f9a87bbb"
      },
      "outputs": [],
      "source": [
        "data_fake[\"class\"] = 0  # For fake news\n",
        "data_true[\"class\"] = 1  # For true news"
      ]
    },
    {
      "cell_type": "code",
      "execution_count": null,
      "id": "b45ba75f-b189-4d48-b1e2-d783392e91f8",
      "metadata": {
        "tags": [],
        "id": "b45ba75f-b189-4d48-b1e2-d783392e91f8",
        "outputId": "a4c2cfe4-6472-4ed4-cc26-39112d0eaa70"
      },
      "outputs": [
        {
          "data": {
            "text/html": [
              "<div>\n",
              "<style scoped>\n",
              "    .dataframe tbody tr th:only-of-type {\n",
              "        vertical-align: middle;\n",
              "    }\n",
              "\n",
              "    .dataframe tbody tr th {\n",
              "        vertical-align: top;\n",
              "    }\n",
              "\n",
              "    .dataframe thead th {\n",
              "        text-align: right;\n",
              "    }\n",
              "</style>\n",
              "<table border=\"1\" class=\"dataframe\">\n",
              "  <thead>\n",
              "    <tr style=\"text-align: right;\">\n",
              "      <th></th>\n",
              "      <th>title</th>\n",
              "      <th>text</th>\n",
              "      <th>subject</th>\n",
              "      <th>date</th>\n",
              "      <th>class</th>\n",
              "    </tr>\n",
              "  </thead>\n",
              "  <tbody>\n",
              "    <tr>\n",
              "      <th>0</th>\n",
              "      <td>Donald Trump Sends Out Embarrassing New Year’...</td>\n",
              "      <td>Donald Trump just couldn t wish all Americans ...</td>\n",
              "      <td>News</td>\n",
              "      <td>December 31, 2017</td>\n",
              "      <td>0</td>\n",
              "    </tr>\n",
              "    <tr>\n",
              "      <th>1</th>\n",
              "      <td>Drunk Bragging Trump Staffer Started Russian ...</td>\n",
              "      <td>House Intelligence Committee Chairman Devin Nu...</td>\n",
              "      <td>News</td>\n",
              "      <td>December 31, 2017</td>\n",
              "      <td>0</td>\n",
              "    </tr>\n",
              "    <tr>\n",
              "      <th>2</th>\n",
              "      <td>Sheriff David Clarke Becomes An Internet Joke...</td>\n",
              "      <td>On Friday, it was revealed that former Milwauk...</td>\n",
              "      <td>News</td>\n",
              "      <td>December 30, 2017</td>\n",
              "      <td>0</td>\n",
              "    </tr>\n",
              "    <tr>\n",
              "      <th>3</th>\n",
              "      <td>Trump Is So Obsessed He Even Has Obama’s Name...</td>\n",
              "      <td>On Christmas day, Donald Trump announced that ...</td>\n",
              "      <td>News</td>\n",
              "      <td>December 29, 2017</td>\n",
              "      <td>0</td>\n",
              "    </tr>\n",
              "    <tr>\n",
              "      <th>4</th>\n",
              "      <td>Pope Francis Just Called Out Donald Trump Dur...</td>\n",
              "      <td>Pope Francis used his annual Christmas Day mes...</td>\n",
              "      <td>News</td>\n",
              "      <td>December 25, 2017</td>\n",
              "      <td>0</td>\n",
              "    </tr>\n",
              "  </tbody>\n",
              "</table>\n",
              "</div>"
            ],
            "text/plain": [
              "                                               title  \\\n",
              "0   Donald Trump Sends Out Embarrassing New Year’...   \n",
              "1   Drunk Bragging Trump Staffer Started Russian ...   \n",
              "2   Sheriff David Clarke Becomes An Internet Joke...   \n",
              "3   Trump Is So Obsessed He Even Has Obama’s Name...   \n",
              "4   Pope Francis Just Called Out Donald Trump Dur...   \n",
              "\n",
              "                                                text subject  \\\n",
              "0  Donald Trump just couldn t wish all Americans ...    News   \n",
              "1  House Intelligence Committee Chairman Devin Nu...    News   \n",
              "2  On Friday, it was revealed that former Milwauk...    News   \n",
              "3  On Christmas day, Donald Trump announced that ...    News   \n",
              "4  Pope Francis used his annual Christmas Day mes...    News   \n",
              "\n",
              "                date  class  \n",
              "0  December 31, 2017      0  \n",
              "1  December 31, 2017      0  \n",
              "2  December 30, 2017      0  \n",
              "3  December 29, 2017      0  \n",
              "4  December 25, 2017      0  "
            ]
          },
          "execution_count": 18,
          "metadata": {},
          "output_type": "execute_result"
        }
      ],
      "source": [
        "data_fake.head() #Display fake news dataset with new class column"
      ]
    },
    {
      "cell_type": "code",
      "execution_count": null,
      "id": "72a983a2-92b8-477b-8e88-486c0e64de47",
      "metadata": {
        "tags": [],
        "id": "72a983a2-92b8-477b-8e88-486c0e64de47",
        "outputId": "ca048600-0d96-4789-83eb-8a0e31096d57"
      },
      "outputs": [
        {
          "data": {
            "text/html": [
              "<div>\n",
              "<style scoped>\n",
              "    .dataframe tbody tr th:only-of-type {\n",
              "        vertical-align: middle;\n",
              "    }\n",
              "\n",
              "    .dataframe tbody tr th {\n",
              "        vertical-align: top;\n",
              "    }\n",
              "\n",
              "    .dataframe thead th {\n",
              "        text-align: right;\n",
              "    }\n",
              "</style>\n",
              "<table border=\"1\" class=\"dataframe\">\n",
              "  <thead>\n",
              "    <tr style=\"text-align: right;\">\n",
              "      <th></th>\n",
              "      <th>title</th>\n",
              "      <th>text</th>\n",
              "      <th>subject</th>\n",
              "      <th>date</th>\n",
              "      <th>class</th>\n",
              "    </tr>\n",
              "  </thead>\n",
              "  <tbody>\n",
              "    <tr>\n",
              "      <th>0</th>\n",
              "      <td>As U.S. budget fight looms, Republicans flip t...</td>\n",
              "      <td>WASHINGTON (Reuters) - The head of a conservat...</td>\n",
              "      <td>politicsNews</td>\n",
              "      <td>December 31, 2017</td>\n",
              "      <td>1</td>\n",
              "    </tr>\n",
              "    <tr>\n",
              "      <th>1</th>\n",
              "      <td>U.S. military to accept transgender recruits o...</td>\n",
              "      <td>WASHINGTON (Reuters) - Transgender people will...</td>\n",
              "      <td>politicsNews</td>\n",
              "      <td>December 29, 2017</td>\n",
              "      <td>1</td>\n",
              "    </tr>\n",
              "    <tr>\n",
              "      <th>2</th>\n",
              "      <td>Senior U.S. Republican senator: 'Let Mr. Muell...</td>\n",
              "      <td>WASHINGTON (Reuters) - The special counsel inv...</td>\n",
              "      <td>politicsNews</td>\n",
              "      <td>December 31, 2017</td>\n",
              "      <td>1</td>\n",
              "    </tr>\n",
              "    <tr>\n",
              "      <th>3</th>\n",
              "      <td>FBI Russia probe helped by Australian diplomat...</td>\n",
              "      <td>WASHINGTON (Reuters) - Trump campaign adviser ...</td>\n",
              "      <td>politicsNews</td>\n",
              "      <td>December 30, 2017</td>\n",
              "      <td>1</td>\n",
              "    </tr>\n",
              "    <tr>\n",
              "      <th>4</th>\n",
              "      <td>Trump wants Postal Service to charge 'much mor...</td>\n",
              "      <td>SEATTLE/WASHINGTON (Reuters) - President Donal...</td>\n",
              "      <td>politicsNews</td>\n",
              "      <td>December 29, 2017</td>\n",
              "      <td>1</td>\n",
              "    </tr>\n",
              "  </tbody>\n",
              "</table>\n",
              "</div>"
            ],
            "text/plain": [
              "                                               title  \\\n",
              "0  As U.S. budget fight looms, Republicans flip t...   \n",
              "1  U.S. military to accept transgender recruits o...   \n",
              "2  Senior U.S. Republican senator: 'Let Mr. Muell...   \n",
              "3  FBI Russia probe helped by Australian diplomat...   \n",
              "4  Trump wants Postal Service to charge 'much mor...   \n",
              "\n",
              "                                                text       subject  \\\n",
              "0  WASHINGTON (Reuters) - The head of a conservat...  politicsNews   \n",
              "1  WASHINGTON (Reuters) - Transgender people will...  politicsNews   \n",
              "2  WASHINGTON (Reuters) - The special counsel inv...  politicsNews   \n",
              "3  WASHINGTON (Reuters) - Trump campaign adviser ...  politicsNews   \n",
              "4  SEATTLE/WASHINGTON (Reuters) - President Donal...  politicsNews   \n",
              "\n",
              "                 date  class  \n",
              "0  December 31, 2017       1  \n",
              "1  December 29, 2017       1  \n",
              "2  December 31, 2017       1  \n",
              "3  December 30, 2017       1  \n",
              "4  December 29, 2017       1  "
            ]
          },
          "execution_count": 20,
          "metadata": {},
          "output_type": "execute_result"
        }
      ],
      "source": [
        "data_true.head() #Display true news dataset with new class column"
      ]
    },
    {
      "cell_type": "markdown",
      "id": "6d82fce6-e104-4067-b675-3eae03ed8cfc",
      "metadata": {
        "id": "6d82fce6-e104-4067-b675-3eae03ed8cfc"
      },
      "source": [
        "### Checking Dataset Shapes"
      ]
    },
    {
      "cell_type": "code",
      "execution_count": null,
      "id": "54d78f5b-faca-4f35-a976-2d60e40c8822",
      "metadata": {
        "tags": [],
        "id": "54d78f5b-faca-4f35-a976-2d60e40c8822",
        "outputId": "414ece8e-8caa-45ef-d6bf-62ef076afa6d"
      },
      "outputs": [
        {
          "data": {
            "text/plain": [
              "(23481, 5)"
            ]
          },
          "execution_count": 23,
          "metadata": {},
          "output_type": "execute_result"
        }
      ],
      "source": [
        "data_fake.shape # Display the shape (rows, columns) of fake news dataset"
      ]
    },
    {
      "cell_type": "code",
      "execution_count": null,
      "id": "46c5cf4c-3471-497e-879d-ca38eed239f5",
      "metadata": {
        "tags": [],
        "id": "46c5cf4c-3471-497e-879d-ca38eed239f5",
        "outputId": "d9b1f7de-57d7-4863-be65-8a3feed42c99"
      },
      "outputs": [
        {
          "data": {
            "text/plain": [
              "(21417, 5)"
            ]
          },
          "execution_count": 25,
          "metadata": {},
          "output_type": "execute_result"
        }
      ],
      "source": [
        "data_true.shape # Display the shape (rows, columns) of true news dataset"
      ]
    },
    {
      "cell_type": "markdown",
      "id": "54b94c5c-ea26-4b32-a37c-be62eb4b3429",
      "metadata": {
        "id": "54b94c5c-ea26-4b32-a37c-be62eb4b3429"
      },
      "source": [
        "### Manual Testing for Both the Dataset"
      ]
    },
    {
      "cell_type": "markdown",
      "id": "4380b1b7-4c25-41c8-8e35-8f5db4c7310a",
      "metadata": {
        "id": "4380b1b7-4c25-41c8-8e35-8f5db4c7310a"
      },
      "source": [
        "#### Removing the last 10 rows for manual testing  "
      ]
    },
    {
      "cell_type": "code",
      "execution_count": null,
      "id": "c3699825-545b-4f41-a96f-213b2364e7eb",
      "metadata": {
        "tags": [],
        "id": "c3699825-545b-4f41-a96f-213b2364e7eb"
      },
      "outputs": [],
      "source": [
        "# Extracting the last 10 rows from the fake news dataset for manual testing\n",
        "data_fake_manual_testing = data_fake.tail(10)\n",
        "\n",
        "# Removing the last 10 rows from the fake news dataset\n",
        "for i in range(23480, 23470, -1):\n",
        "    data_fake.drop([i], axis=0, inplace=True)"
      ]
    },
    {
      "cell_type": "code",
      "execution_count": null,
      "id": "f299f12e-5b7a-45bc-9dc4-a5ecffa1055e",
      "metadata": {
        "tags": [],
        "id": "f299f12e-5b7a-45bc-9dc4-a5ecffa1055e",
        "outputId": "49bdc653-f7f9-485e-df46-2116ff9e6cb2"
      },
      "outputs": [
        {
          "data": {
            "text/plain": [
              "(23471, 5)"
            ]
          },
          "execution_count": 31,
          "metadata": {},
          "output_type": "execute_result"
        }
      ],
      "source": [
        "data_fake.shape"
      ]
    },
    {
      "cell_type": "code",
      "execution_count": null,
      "id": "553e40cc-a3ef-4830-896c-e0e196759a15",
      "metadata": {
        "tags": [],
        "id": "553e40cc-a3ef-4830-896c-e0e196759a15"
      },
      "outputs": [],
      "source": [
        "# Extracting the last 10 rows from the true news dataset for manual testing\n",
        "data_true_manual_testing = data_true.tail(10)\n",
        "\n",
        "# Removing the last 10 rows from the true news dataset\n",
        "for i in range(21416, 21406, -1):\n",
        "    data_true.drop([i], axis=0, inplace=True)"
      ]
    },
    {
      "cell_type": "code",
      "execution_count": null,
      "id": "1a368b8d-0a8d-4df6-8226-af8324765e11",
      "metadata": {
        "tags": [],
        "id": "1a368b8d-0a8d-4df6-8226-af8324765e11",
        "outputId": "563f28f1-f755-4a3c-d501-dd306f5609db"
      },
      "outputs": [
        {
          "data": {
            "text/plain": [
              "(21407, 5)"
            ]
          },
          "execution_count": 35,
          "metadata": {},
          "output_type": "execute_result"
        }
      ],
      "source": [
        "data_true.shape"
      ]
    },
    {
      "cell_type": "markdown",
      "id": "8b6450fe-f61d-4fb3-86c6-a5282dcabbec",
      "metadata": {
        "id": "8b6450fe-f61d-4fb3-86c6-a5282dcabbec"
      },
      "source": [
        "#### Adding class labels for manual testing datasets"
      ]
    },
    {
      "cell_type": "code",
      "execution_count": null,
      "id": "65e5659f-e9a5-44ee-a291-814d006c31d2",
      "metadata": {
        "tags": [],
        "id": "65e5659f-e9a5-44ee-a291-814d006c31d2"
      },
      "outputs": [],
      "source": [
        "data_fake_manual_testing.loc[:, \"class\"] = 0  # For fake news\n",
        "data_true_manual_testing.loc[:, \"class\"] = 1  # For true news"
      ]
    },
    {
      "cell_type": "code",
      "execution_count": null,
      "id": "0d16a63d-e4f6-45bd-b367-fe24ad21fe00",
      "metadata": {
        "tags": [],
        "id": "0d16a63d-e4f6-45bd-b367-fe24ad21fe00",
        "outputId": "dc7a0b63-7f4f-4309-ed2f-821d1badedc5"
      },
      "outputs": [
        {
          "data": {
            "text/html": [
              "<div>\n",
              "<style scoped>\n",
              "    .dataframe tbody tr th:only-of-type {\n",
              "        vertical-align: middle;\n",
              "    }\n",
              "\n",
              "    .dataframe tbody tr th {\n",
              "        vertical-align: top;\n",
              "    }\n",
              "\n",
              "    .dataframe thead th {\n",
              "        text-align: right;\n",
              "    }\n",
              "</style>\n",
              "<table border=\"1\" class=\"dataframe\">\n",
              "  <thead>\n",
              "    <tr style=\"text-align: right;\">\n",
              "      <th></th>\n",
              "      <th>title</th>\n",
              "      <th>text</th>\n",
              "      <th>subject</th>\n",
              "      <th>date</th>\n",
              "      <th>class</th>\n",
              "    </tr>\n",
              "  </thead>\n",
              "  <tbody>\n",
              "    <tr>\n",
              "      <th>23471</th>\n",
              "      <td>Seven Iranians freed in the prisoner swap have...</td>\n",
              "      <td>21st Century Wire says This week, the historic...</td>\n",
              "      <td>Middle-east</td>\n",
              "      <td>January 20, 2016</td>\n",
              "      <td>0</td>\n",
              "    </tr>\n",
              "    <tr>\n",
              "      <th>23472</th>\n",
              "      <td>#Hashtag Hell &amp; The Fake Left</td>\n",
              "      <td>By Dady Chery and Gilbert MercierAll writers ...</td>\n",
              "      <td>Middle-east</td>\n",
              "      <td>January 19, 2016</td>\n",
              "      <td>0</td>\n",
              "    </tr>\n",
              "    <tr>\n",
              "      <th>23473</th>\n",
              "      <td>Astroturfing: Journalist Reveals Brainwashing ...</td>\n",
              "      <td>Vic Bishop Waking TimesOur reality is carefull...</td>\n",
              "      <td>Middle-east</td>\n",
              "      <td>January 19, 2016</td>\n",
              "      <td>0</td>\n",
              "    </tr>\n",
              "    <tr>\n",
              "      <th>23474</th>\n",
              "      <td>The New American Century: An Era of Fraud</td>\n",
              "      <td>Paul Craig RobertsIn the last years of the 20t...</td>\n",
              "      <td>Middle-east</td>\n",
              "      <td>January 19, 2016</td>\n",
              "      <td>0</td>\n",
              "    </tr>\n",
              "    <tr>\n",
              "      <th>23475</th>\n",
              "      <td>Hillary Clinton: ‘Israel First’ (and no peace ...</td>\n",
              "      <td>Robert Fantina CounterpunchAlthough the United...</td>\n",
              "      <td>Middle-east</td>\n",
              "      <td>January 18, 2016</td>\n",
              "      <td>0</td>\n",
              "    </tr>\n",
              "    <tr>\n",
              "      <th>23476</th>\n",
              "      <td>McPain: John McCain Furious That Iran Treated ...</td>\n",
              "      <td>21st Century Wire says As 21WIRE reported earl...</td>\n",
              "      <td>Middle-east</td>\n",
              "      <td>January 16, 2016</td>\n",
              "      <td>0</td>\n",
              "    </tr>\n",
              "    <tr>\n",
              "      <th>23477</th>\n",
              "      <td>JUSTICE? Yahoo Settles E-mail Privacy Class-ac...</td>\n",
              "      <td>21st Century Wire says It s a familiar theme. ...</td>\n",
              "      <td>Middle-east</td>\n",
              "      <td>January 16, 2016</td>\n",
              "      <td>0</td>\n",
              "    </tr>\n",
              "    <tr>\n",
              "      <th>23478</th>\n",
              "      <td>Sunnistan: US and Allied ‘Safe Zone’ Plan to T...</td>\n",
              "      <td>Patrick Henningsen  21st Century WireRemember ...</td>\n",
              "      <td>Middle-east</td>\n",
              "      <td>January 15, 2016</td>\n",
              "      <td>0</td>\n",
              "    </tr>\n",
              "    <tr>\n",
              "      <th>23479</th>\n",
              "      <td>How to Blow $700 Million: Al Jazeera America F...</td>\n",
              "      <td>21st Century Wire says Al Jazeera America will...</td>\n",
              "      <td>Middle-east</td>\n",
              "      <td>January 14, 2016</td>\n",
              "      <td>0</td>\n",
              "    </tr>\n",
              "    <tr>\n",
              "      <th>23480</th>\n",
              "      <td>10 U.S. Navy Sailors Held by Iranian Military ...</td>\n",
              "      <td>21st Century Wire says As 21WIRE predicted in ...</td>\n",
              "      <td>Middle-east</td>\n",
              "      <td>January 12, 2016</td>\n",
              "      <td>0</td>\n",
              "    </tr>\n",
              "  </tbody>\n",
              "</table>\n",
              "</div>"
            ],
            "text/plain": [
              "                                                   title  \\\n",
              "23471  Seven Iranians freed in the prisoner swap have...   \n",
              "23472                      #Hashtag Hell & The Fake Left   \n",
              "23473  Astroturfing: Journalist Reveals Brainwashing ...   \n",
              "23474          The New American Century: An Era of Fraud   \n",
              "23475  Hillary Clinton: ‘Israel First’ (and no peace ...   \n",
              "23476  McPain: John McCain Furious That Iran Treated ...   \n",
              "23477  JUSTICE? Yahoo Settles E-mail Privacy Class-ac...   \n",
              "23478  Sunnistan: US and Allied ‘Safe Zone’ Plan to T...   \n",
              "23479  How to Blow $700 Million: Al Jazeera America F...   \n",
              "23480  10 U.S. Navy Sailors Held by Iranian Military ...   \n",
              "\n",
              "                                                    text      subject  \\\n",
              "23471  21st Century Wire says This week, the historic...  Middle-east   \n",
              "23472   By Dady Chery and Gilbert MercierAll writers ...  Middle-east   \n",
              "23473  Vic Bishop Waking TimesOur reality is carefull...  Middle-east   \n",
              "23474  Paul Craig RobertsIn the last years of the 20t...  Middle-east   \n",
              "23475  Robert Fantina CounterpunchAlthough the United...  Middle-east   \n",
              "23476  21st Century Wire says As 21WIRE reported earl...  Middle-east   \n",
              "23477  21st Century Wire says It s a familiar theme. ...  Middle-east   \n",
              "23478  Patrick Henningsen  21st Century WireRemember ...  Middle-east   \n",
              "23479  21st Century Wire says Al Jazeera America will...  Middle-east   \n",
              "23480  21st Century Wire says As 21WIRE predicted in ...  Middle-east   \n",
              "\n",
              "                   date  class  \n",
              "23471  January 20, 2016      0  \n",
              "23472  January 19, 2016      0  \n",
              "23473  January 19, 2016      0  \n",
              "23474  January 19, 2016      0  \n",
              "23475  January 18, 2016      0  \n",
              "23476  January 16, 2016      0  \n",
              "23477  January 16, 2016      0  \n",
              "23478  January 15, 2016      0  \n",
              "23479  January 14, 2016      0  \n",
              "23480  January 12, 2016      0  "
            ]
          },
          "execution_count": 40,
          "metadata": {},
          "output_type": "execute_result"
        }
      ],
      "source": [
        "# Display the first 10 rows of the fake news manual testing dataset\n",
        "data_fake_manual_testing"
      ]
    },
    {
      "cell_type": "code",
      "execution_count": null,
      "id": "676ad938-41ca-456a-9c26-5798fc4a42a2",
      "metadata": {
        "tags": [],
        "id": "676ad938-41ca-456a-9c26-5798fc4a42a2",
        "outputId": "6ad2f2a0-ab83-40ed-d163-2aff2359950d"
      },
      "outputs": [
        {
          "data": {
            "text/html": [
              "<div>\n",
              "<style scoped>\n",
              "    .dataframe tbody tr th:only-of-type {\n",
              "        vertical-align: middle;\n",
              "    }\n",
              "\n",
              "    .dataframe tbody tr th {\n",
              "        vertical-align: top;\n",
              "    }\n",
              "\n",
              "    .dataframe thead th {\n",
              "        text-align: right;\n",
              "    }\n",
              "</style>\n",
              "<table border=\"1\" class=\"dataframe\">\n",
              "  <thead>\n",
              "    <tr style=\"text-align: right;\">\n",
              "      <th></th>\n",
              "      <th>title</th>\n",
              "      <th>text</th>\n",
              "      <th>subject</th>\n",
              "      <th>date</th>\n",
              "      <th>class</th>\n",
              "    </tr>\n",
              "  </thead>\n",
              "  <tbody>\n",
              "    <tr>\n",
              "      <th>21407</th>\n",
              "      <td>Mata Pires, owner of embattled Brazil builder ...</td>\n",
              "      <td>SAO PAULO (Reuters) - Cesar Mata Pires, the ow...</td>\n",
              "      <td>worldnews</td>\n",
              "      <td>August 22, 2017</td>\n",
              "      <td>1</td>\n",
              "    </tr>\n",
              "    <tr>\n",
              "      <th>21408</th>\n",
              "      <td>U.S., North Korea clash at U.N. forum over nuc...</td>\n",
              "      <td>GENEVA (Reuters) - North Korea and the United ...</td>\n",
              "      <td>worldnews</td>\n",
              "      <td>August 22, 2017</td>\n",
              "      <td>1</td>\n",
              "    </tr>\n",
              "    <tr>\n",
              "      <th>21409</th>\n",
              "      <td>U.S., North Korea clash at U.N. arms forum on ...</td>\n",
              "      <td>GENEVA (Reuters) - North Korea and the United ...</td>\n",
              "      <td>worldnews</td>\n",
              "      <td>August 22, 2017</td>\n",
              "      <td>1</td>\n",
              "    </tr>\n",
              "    <tr>\n",
              "      <th>21410</th>\n",
              "      <td>Headless torso could belong to submarine journ...</td>\n",
              "      <td>COPENHAGEN (Reuters) - Danish police said on T...</td>\n",
              "      <td>worldnews</td>\n",
              "      <td>August 22, 2017</td>\n",
              "      <td>1</td>\n",
              "    </tr>\n",
              "    <tr>\n",
              "      <th>21411</th>\n",
              "      <td>North Korea shipments to Syria chemical arms a...</td>\n",
              "      <td>UNITED NATIONS (Reuters) - Two North Korean sh...</td>\n",
              "      <td>worldnews</td>\n",
              "      <td>August 21, 2017</td>\n",
              "      <td>1</td>\n",
              "    </tr>\n",
              "    <tr>\n",
              "      <th>21412</th>\n",
              "      <td>'Fully committed' NATO backs new U.S. approach...</td>\n",
              "      <td>BRUSSELS (Reuters) - NATO allies on Tuesday we...</td>\n",
              "      <td>worldnews</td>\n",
              "      <td>August 22, 2017</td>\n",
              "      <td>1</td>\n",
              "    </tr>\n",
              "    <tr>\n",
              "      <th>21413</th>\n",
              "      <td>LexisNexis withdrew two products from Chinese ...</td>\n",
              "      <td>LONDON (Reuters) - LexisNexis, a provider of l...</td>\n",
              "      <td>worldnews</td>\n",
              "      <td>August 22, 2017</td>\n",
              "      <td>1</td>\n",
              "    </tr>\n",
              "    <tr>\n",
              "      <th>21414</th>\n",
              "      <td>Minsk cultural hub becomes haven from authorities</td>\n",
              "      <td>MINSK (Reuters) - In the shadow of disused Sov...</td>\n",
              "      <td>worldnews</td>\n",
              "      <td>August 22, 2017</td>\n",
              "      <td>1</td>\n",
              "    </tr>\n",
              "    <tr>\n",
              "      <th>21415</th>\n",
              "      <td>Vatican upbeat on possibility of Pope Francis ...</td>\n",
              "      <td>MOSCOW (Reuters) - Vatican Secretary of State ...</td>\n",
              "      <td>worldnews</td>\n",
              "      <td>August 22, 2017</td>\n",
              "      <td>1</td>\n",
              "    </tr>\n",
              "    <tr>\n",
              "      <th>21416</th>\n",
              "      <td>Indonesia to buy $1.14 billion worth of Russia...</td>\n",
              "      <td>JAKARTA (Reuters) - Indonesia will buy 11 Sukh...</td>\n",
              "      <td>worldnews</td>\n",
              "      <td>August 22, 2017</td>\n",
              "      <td>1</td>\n",
              "    </tr>\n",
              "  </tbody>\n",
              "</table>\n",
              "</div>"
            ],
            "text/plain": [
              "                                                   title  \\\n",
              "21407  Mata Pires, owner of embattled Brazil builder ...   \n",
              "21408  U.S., North Korea clash at U.N. forum over nuc...   \n",
              "21409  U.S., North Korea clash at U.N. arms forum on ...   \n",
              "21410  Headless torso could belong to submarine journ...   \n",
              "21411  North Korea shipments to Syria chemical arms a...   \n",
              "21412  'Fully committed' NATO backs new U.S. approach...   \n",
              "21413  LexisNexis withdrew two products from Chinese ...   \n",
              "21414  Minsk cultural hub becomes haven from authorities   \n",
              "21415  Vatican upbeat on possibility of Pope Francis ...   \n",
              "21416  Indonesia to buy $1.14 billion worth of Russia...   \n",
              "\n",
              "                                                    text    subject  \\\n",
              "21407  SAO PAULO (Reuters) - Cesar Mata Pires, the ow...  worldnews   \n",
              "21408  GENEVA (Reuters) - North Korea and the United ...  worldnews   \n",
              "21409  GENEVA (Reuters) - North Korea and the United ...  worldnews   \n",
              "21410  COPENHAGEN (Reuters) - Danish police said on T...  worldnews   \n",
              "21411  UNITED NATIONS (Reuters) - Two North Korean sh...  worldnews   \n",
              "21412  BRUSSELS (Reuters) - NATO allies on Tuesday we...  worldnews   \n",
              "21413  LONDON (Reuters) - LexisNexis, a provider of l...  worldnews   \n",
              "21414  MINSK (Reuters) - In the shadow of disused Sov...  worldnews   \n",
              "21415  MOSCOW (Reuters) - Vatican Secretary of State ...  worldnews   \n",
              "21416  JAKARTA (Reuters) - Indonesia will buy 11 Sukh...  worldnews   \n",
              "\n",
              "                   date  class  \n",
              "21407  August 22, 2017       1  \n",
              "21408  August 22, 2017       1  \n",
              "21409  August 22, 2017       1  \n",
              "21410  August 22, 2017       1  \n",
              "21411  August 21, 2017       1  \n",
              "21412  August 22, 2017       1  \n",
              "21413  August 22, 2017       1  \n",
              "21414  August 22, 2017       1  \n",
              "21415  August 22, 2017       1  \n",
              "21416  August 22, 2017       1  "
            ]
          },
          "execution_count": 42,
          "metadata": {},
          "output_type": "execute_result"
        }
      ],
      "source": [
        "# Display the first 10 rows of the true news manual testing dataset\n",
        "data_true_manual_testing"
      ]
    },
    {
      "cell_type": "markdown",
      "id": "03348793-bee8-4868-9a67-1de246b5d7c8",
      "metadata": {
        "id": "03348793-bee8-4868-9a67-1de246b5d7c8"
      },
      "source": [
        "### Merging Both the Dataset"
      ]
    },
    {
      "cell_type": "code",
      "execution_count": null,
      "id": "b399ec47-7489-4fbb-a0e3-b3c7a0a89732",
      "metadata": {
        "tags": [],
        "id": "b399ec47-7489-4fbb-a0e3-b3c7a0a89732",
        "outputId": "e3d238d6-78d1-4a46-fe48-493f3737e588"
      },
      "outputs": [
        {
          "data": {
            "text/html": [
              "<div>\n",
              "<style scoped>\n",
              "    .dataframe tbody tr th:only-of-type {\n",
              "        vertical-align: middle;\n",
              "    }\n",
              "\n",
              "    .dataframe tbody tr th {\n",
              "        vertical-align: top;\n",
              "    }\n",
              "\n",
              "    .dataframe thead th {\n",
              "        text-align: right;\n",
              "    }\n",
              "</style>\n",
              "<table border=\"1\" class=\"dataframe\">\n",
              "  <thead>\n",
              "    <tr style=\"text-align: right;\">\n",
              "      <th></th>\n",
              "      <th>title</th>\n",
              "      <th>text</th>\n",
              "      <th>subject</th>\n",
              "      <th>date</th>\n",
              "      <th>class</th>\n",
              "    </tr>\n",
              "  </thead>\n",
              "  <tbody>\n",
              "    <tr>\n",
              "      <th>0</th>\n",
              "      <td>Donald Trump Sends Out Embarrassing New Year’...</td>\n",
              "      <td>Donald Trump just couldn t wish all Americans ...</td>\n",
              "      <td>News</td>\n",
              "      <td>December 31, 2017</td>\n",
              "      <td>0</td>\n",
              "    </tr>\n",
              "    <tr>\n",
              "      <th>1</th>\n",
              "      <td>Drunk Bragging Trump Staffer Started Russian ...</td>\n",
              "      <td>House Intelligence Committee Chairman Devin Nu...</td>\n",
              "      <td>News</td>\n",
              "      <td>December 31, 2017</td>\n",
              "      <td>0</td>\n",
              "    </tr>\n",
              "    <tr>\n",
              "      <th>2</th>\n",
              "      <td>Sheriff David Clarke Becomes An Internet Joke...</td>\n",
              "      <td>On Friday, it was revealed that former Milwauk...</td>\n",
              "      <td>News</td>\n",
              "      <td>December 30, 2017</td>\n",
              "      <td>0</td>\n",
              "    </tr>\n",
              "    <tr>\n",
              "      <th>3</th>\n",
              "      <td>Trump Is So Obsessed He Even Has Obama’s Name...</td>\n",
              "      <td>On Christmas day, Donald Trump announced that ...</td>\n",
              "      <td>News</td>\n",
              "      <td>December 29, 2017</td>\n",
              "      <td>0</td>\n",
              "    </tr>\n",
              "    <tr>\n",
              "      <th>4</th>\n",
              "      <td>Pope Francis Just Called Out Donald Trump Dur...</td>\n",
              "      <td>Pope Francis used his annual Christmas Day mes...</td>\n",
              "      <td>News</td>\n",
              "      <td>December 25, 2017</td>\n",
              "      <td>0</td>\n",
              "    </tr>\n",
              "    <tr>\n",
              "      <th>5</th>\n",
              "      <td>Racist Alabama Cops Brutalize Black Boy While...</td>\n",
              "      <td>The number of cases of cops brutalizing and ki...</td>\n",
              "      <td>News</td>\n",
              "      <td>December 25, 2017</td>\n",
              "      <td>0</td>\n",
              "    </tr>\n",
              "    <tr>\n",
              "      <th>6</th>\n",
              "      <td>Fresh Off The Golf Course, Trump Lashes Out A...</td>\n",
              "      <td>Donald Trump spent a good portion of his day a...</td>\n",
              "      <td>News</td>\n",
              "      <td>December 23, 2017</td>\n",
              "      <td>0</td>\n",
              "    </tr>\n",
              "    <tr>\n",
              "      <th>7</th>\n",
              "      <td>Trump Said Some INSANELY Racist Stuff Inside ...</td>\n",
              "      <td>In the wake of yet another court decision that...</td>\n",
              "      <td>News</td>\n",
              "      <td>December 23, 2017</td>\n",
              "      <td>0</td>\n",
              "    </tr>\n",
              "    <tr>\n",
              "      <th>8</th>\n",
              "      <td>Former CIA Director Slams Trump Over UN Bully...</td>\n",
              "      <td>Many people have raised the alarm regarding th...</td>\n",
              "      <td>News</td>\n",
              "      <td>December 22, 2017</td>\n",
              "      <td>0</td>\n",
              "    </tr>\n",
              "    <tr>\n",
              "      <th>9</th>\n",
              "      <td>WATCH: Brand-New Pro-Trump Ad Features So Muc...</td>\n",
              "      <td>Just when you might have thought we d get a br...</td>\n",
              "      <td>News</td>\n",
              "      <td>December 21, 2017</td>\n",
              "      <td>0</td>\n",
              "    </tr>\n",
              "  </tbody>\n",
              "</table>\n",
              "</div>"
            ],
            "text/plain": [
              "                                               title  \\\n",
              "0   Donald Trump Sends Out Embarrassing New Year’...   \n",
              "1   Drunk Bragging Trump Staffer Started Russian ...   \n",
              "2   Sheriff David Clarke Becomes An Internet Joke...   \n",
              "3   Trump Is So Obsessed He Even Has Obama’s Name...   \n",
              "4   Pope Francis Just Called Out Donald Trump Dur...   \n",
              "5   Racist Alabama Cops Brutalize Black Boy While...   \n",
              "6   Fresh Off The Golf Course, Trump Lashes Out A...   \n",
              "7   Trump Said Some INSANELY Racist Stuff Inside ...   \n",
              "8   Former CIA Director Slams Trump Over UN Bully...   \n",
              "9   WATCH: Brand-New Pro-Trump Ad Features So Muc...   \n",
              "\n",
              "                                                text subject  \\\n",
              "0  Donald Trump just couldn t wish all Americans ...    News   \n",
              "1  House Intelligence Committee Chairman Devin Nu...    News   \n",
              "2  On Friday, it was revealed that former Milwauk...    News   \n",
              "3  On Christmas day, Donald Trump announced that ...    News   \n",
              "4  Pope Francis used his annual Christmas Day mes...    News   \n",
              "5  The number of cases of cops brutalizing and ki...    News   \n",
              "6  Donald Trump spent a good portion of his day a...    News   \n",
              "7  In the wake of yet another court decision that...    News   \n",
              "8  Many people have raised the alarm regarding th...    News   \n",
              "9  Just when you might have thought we d get a br...    News   \n",
              "\n",
              "                date  class  \n",
              "0  December 31, 2017      0  \n",
              "1  December 31, 2017      0  \n",
              "2  December 30, 2017      0  \n",
              "3  December 29, 2017      0  \n",
              "4  December 25, 2017      0  \n",
              "5  December 25, 2017      0  \n",
              "6  December 23, 2017      0  \n",
              "7  December 23, 2017      0  \n",
              "8  December 22, 2017      0  \n",
              "9  December 21, 2017      0  "
            ]
          },
          "execution_count": 45,
          "metadata": {},
          "output_type": "execute_result"
        }
      ],
      "source": [
        "data_merge = pd.concat([data_fake, data_true], axis =0 )\n",
        "data_merge.head(10)"
      ]
    },
    {
      "cell_type": "markdown",
      "id": "8c8bc2d3-712d-44ed-bc7e-037be77b73a2",
      "metadata": {
        "id": "8c8bc2d3-712d-44ed-bc7e-037be77b73a2"
      },
      "source": [
        "### Dropping unnecessary columns"
      ]
    },
    {
      "cell_type": "code",
      "execution_count": null,
      "id": "3ca696a6-a09d-4258-88b7-ffe10d19d2de",
      "metadata": {
        "tags": [],
        "id": "3ca696a6-a09d-4258-88b7-ffe10d19d2de",
        "outputId": "a5e45731-a995-4a04-9f6a-c8c3181f9601"
      },
      "outputs": [
        {
          "data": {
            "text/html": [
              "<div>\n",
              "<style scoped>\n",
              "    .dataframe tbody tr th:only-of-type {\n",
              "        vertical-align: middle;\n",
              "    }\n",
              "\n",
              "    .dataframe tbody tr th {\n",
              "        vertical-align: top;\n",
              "    }\n",
              "\n",
              "    .dataframe thead th {\n",
              "        text-align: right;\n",
              "    }\n",
              "</style>\n",
              "<table border=\"1\" class=\"dataframe\">\n",
              "  <thead>\n",
              "    <tr style=\"text-align: right;\">\n",
              "      <th></th>\n",
              "      <th>text</th>\n",
              "      <th>class</th>\n",
              "    </tr>\n",
              "  </thead>\n",
              "  <tbody>\n",
              "    <tr>\n",
              "      <th>0</th>\n",
              "      <td>Donald Trump just couldn t wish all Americans ...</td>\n",
              "      <td>0</td>\n",
              "    </tr>\n",
              "    <tr>\n",
              "      <th>1</th>\n",
              "      <td>House Intelligence Committee Chairman Devin Nu...</td>\n",
              "      <td>0</td>\n",
              "    </tr>\n",
              "    <tr>\n",
              "      <th>2</th>\n",
              "      <td>On Friday, it was revealed that former Milwauk...</td>\n",
              "      <td>0</td>\n",
              "    </tr>\n",
              "    <tr>\n",
              "      <th>3</th>\n",
              "      <td>On Christmas day, Donald Trump announced that ...</td>\n",
              "      <td>0</td>\n",
              "    </tr>\n",
              "    <tr>\n",
              "      <th>4</th>\n",
              "      <td>Pope Francis used his annual Christmas Day mes...</td>\n",
              "      <td>0</td>\n",
              "    </tr>\n",
              "    <tr>\n",
              "      <th>5</th>\n",
              "      <td>The number of cases of cops brutalizing and ki...</td>\n",
              "      <td>0</td>\n",
              "    </tr>\n",
              "    <tr>\n",
              "      <th>6</th>\n",
              "      <td>Donald Trump spent a good portion of his day a...</td>\n",
              "      <td>0</td>\n",
              "    </tr>\n",
              "    <tr>\n",
              "      <th>7</th>\n",
              "      <td>In the wake of yet another court decision that...</td>\n",
              "      <td>0</td>\n",
              "    </tr>\n",
              "    <tr>\n",
              "      <th>8</th>\n",
              "      <td>Many people have raised the alarm regarding th...</td>\n",
              "      <td>0</td>\n",
              "    </tr>\n",
              "    <tr>\n",
              "      <th>9</th>\n",
              "      <td>Just when you might have thought we d get a br...</td>\n",
              "      <td>0</td>\n",
              "    </tr>\n",
              "  </tbody>\n",
              "</table>\n",
              "</div>"
            ],
            "text/plain": [
              "                                                text  class\n",
              "0  Donald Trump just couldn t wish all Americans ...      0\n",
              "1  House Intelligence Committee Chairman Devin Nu...      0\n",
              "2  On Friday, it was revealed that former Milwauk...      0\n",
              "3  On Christmas day, Donald Trump announced that ...      0\n",
              "4  Pope Francis used his annual Christmas Day mes...      0\n",
              "5  The number of cases of cops brutalizing and ki...      0\n",
              "6  Donald Trump spent a good portion of his day a...      0\n",
              "7  In the wake of yet another court decision that...      0\n",
              "8  Many people have raised the alarm regarding th...      0\n",
              "9  Just when you might have thought we d get a br...      0"
            ]
          },
          "execution_count": 48,
          "metadata": {},
          "output_type": "execute_result"
        }
      ],
      "source": [
        "data = data_merge.drop([\"title\", \"subject\", \"date\"], axis=1)\n",
        "data.head(10)"
      ]
    },
    {
      "cell_type": "markdown",
      "id": "e13652fd-e60f-4a59-a142-64c7fa5b154f",
      "metadata": {
        "id": "e13652fd-e60f-4a59-a142-64c7fa5b154f"
      },
      "source": [
        "### Checking for missing values"
      ]
    },
    {
      "cell_type": "code",
      "execution_count": null,
      "id": "d216104f-26ed-4884-80a2-92f965489fdb",
      "metadata": {
        "tags": [],
        "id": "d216104f-26ed-4884-80a2-92f965489fdb",
        "outputId": "afa8dd00-4556-4863-bf3b-2b6a825840ff"
      },
      "outputs": [
        {
          "name": "stdout",
          "output_type": "stream",
          "text": [
            "text     0\n",
            "class    0\n",
            "dtype: int64\n"
          ]
        }
      ],
      "source": [
        "print(data.isnull().sum())"
      ]
    },
    {
      "cell_type": "markdown",
      "id": "ae647b00-d164-4d8a-98e1-ec9eff746dda",
      "metadata": {
        "id": "ae647b00-d164-4d8a-98e1-ec9eff746dda"
      },
      "source": [
        "There is no missing values in dataset."
      ]
    },
    {
      "cell_type": "markdown",
      "id": "9f48d38d-bead-4f1b-9748-6419a5d86808",
      "metadata": {
        "id": "9f48d38d-bead-4f1b-9748-6419a5d86808"
      },
      "source": [
        "### Shuffling the dataset and resetting the index"
      ]
    },
    {
      "cell_type": "code",
      "execution_count": null,
      "id": "23bbb9ca-cf98-438c-8a09-4eab661fb562",
      "metadata": {
        "tags": [],
        "id": "23bbb9ca-cf98-438c-8a09-4eab661fb562",
        "outputId": "2a4e821b-3ccd-4ffb-c7b7-68df5bc1065e"
      },
      "outputs": [
        {
          "data": {
            "text/html": [
              "<div>\n",
              "<style scoped>\n",
              "    .dataframe tbody tr th:only-of-type {\n",
              "        vertical-align: middle;\n",
              "    }\n",
              "\n",
              "    .dataframe tbody tr th {\n",
              "        vertical-align: top;\n",
              "    }\n",
              "\n",
              "    .dataframe thead th {\n",
              "        text-align: right;\n",
              "    }\n",
              "</style>\n",
              "<table border=\"1\" class=\"dataframe\">\n",
              "  <thead>\n",
              "    <tr style=\"text-align: right;\">\n",
              "      <th></th>\n",
              "      <th>text</th>\n",
              "      <th>class</th>\n",
              "    </tr>\n",
              "  </thead>\n",
              "  <tbody>\n",
              "    <tr>\n",
              "      <th>18174</th>\n",
              "      <td>BANGKOK (Reuters) - Thailand s ousted former P...</td>\n",
              "      <td>1</td>\n",
              "    </tr>\n",
              "    <tr>\n",
              "      <th>3586</th>\n",
              "      <td>With many people still recovering from such a ...</td>\n",
              "      <td>0</td>\n",
              "    </tr>\n",
              "    <tr>\n",
              "      <th>6437</th>\n",
              "      <td>While there have been what seems like dozens o...</td>\n",
              "      <td>0</td>\n",
              "    </tr>\n",
              "    <tr>\n",
              "      <th>8245</th>\n",
              "      <td>WASHINGTON (Reuters) - Republican Donald Trum...</td>\n",
              "      <td>1</td>\n",
              "    </tr>\n",
              "    <tr>\n",
              "      <th>16388</th>\n",
              "      <td>ABUJA (Reuters) - More than 2,000 people have ...</td>\n",
              "      <td>1</td>\n",
              "    </tr>\n",
              "    <tr>\n",
              "      <th>20669</th>\n",
              "      <td>AMSTERDAM/PARIS (Reuters) - Hurricane Irma has...</td>\n",
              "      <td>1</td>\n",
              "    </tr>\n",
              "    <tr>\n",
              "      <th>2068</th>\n",
              "      <td>BAGHDAD (Reuters) - U.S. Defense Secretary Jam...</td>\n",
              "      <td>1</td>\n",
              "    </tr>\n",
              "    <tr>\n",
              "      <th>6348</th>\n",
              "      <td>With Donald Trump handing out nicknames left a...</td>\n",
              "      <td>0</td>\n",
              "    </tr>\n",
              "    <tr>\n",
              "      <th>17395</th>\n",
              "      <td>Try to process this: A woman running for Presi...</td>\n",
              "      <td>0</td>\n",
              "    </tr>\n",
              "    <tr>\n",
              "      <th>17478</th>\n",
              "      <td>VATICAN CITY (Reuters) - The former president ...</td>\n",
              "      <td>1</td>\n",
              "    </tr>\n",
              "  </tbody>\n",
              "</table>\n",
              "</div>"
            ],
            "text/plain": [
              "                                                    text  class\n",
              "18174  BANGKOK (Reuters) - Thailand s ousted former P...      1\n",
              "3586   With many people still recovering from such a ...      0\n",
              "6437   While there have been what seems like dozens o...      0\n",
              "8245    WASHINGTON (Reuters) - Republican Donald Trum...      1\n",
              "16388  ABUJA (Reuters) - More than 2,000 people have ...      1\n",
              "20669  AMSTERDAM/PARIS (Reuters) - Hurricane Irma has...      1\n",
              "2068   BAGHDAD (Reuters) - U.S. Defense Secretary Jam...      1\n",
              "6348   With Donald Trump handing out nicknames left a...      0\n",
              "17395  Try to process this: A woman running for Presi...      0\n",
              "17478  VATICAN CITY (Reuters) - The former president ...      1"
            ]
          },
          "execution_count": 55,
          "metadata": {},
          "output_type": "execute_result"
        }
      ],
      "source": [
        "# Shuffling the rows of the dataset randomly\n",
        "dataframe_shuffled = data.sample(frac=1)\n",
        "\n",
        "# Displaying the first few rows of the shuffled dataframe\n",
        "dataframe_shuffled.head(10)"
      ]
    },
    {
      "cell_type": "code",
      "execution_count": null,
      "id": "cf34b7b3-fd9a-4ab3-82a8-515c6f890b1d",
      "metadata": {
        "tags": [],
        "id": "cf34b7b3-fd9a-4ab3-82a8-515c6f890b1d",
        "outputId": "bd771d19-37c1-4416-aab7-5dd86ca6d007"
      },
      "outputs": [
        {
          "data": {
            "text/html": [
              "<div>\n",
              "<style scoped>\n",
              "    .dataframe tbody tr th:only-of-type {\n",
              "        vertical-align: middle;\n",
              "    }\n",
              "\n",
              "    .dataframe tbody tr th {\n",
              "        vertical-align: top;\n",
              "    }\n",
              "\n",
              "    .dataframe thead th {\n",
              "        text-align: right;\n",
              "    }\n",
              "</style>\n",
              "<table border=\"1\" class=\"dataframe\">\n",
              "  <thead>\n",
              "    <tr style=\"text-align: right;\">\n",
              "      <th></th>\n",
              "      <th>text</th>\n",
              "      <th>class</th>\n",
              "    </tr>\n",
              "  </thead>\n",
              "  <tbody>\n",
              "    <tr>\n",
              "      <th>0</th>\n",
              "      <td>BANGKOK (Reuters) - Thailand s ousted former P...</td>\n",
              "      <td>1</td>\n",
              "    </tr>\n",
              "    <tr>\n",
              "      <th>1</th>\n",
              "      <td>With many people still recovering from such a ...</td>\n",
              "      <td>0</td>\n",
              "    </tr>\n",
              "    <tr>\n",
              "      <th>2</th>\n",
              "      <td>While there have been what seems like dozens o...</td>\n",
              "      <td>0</td>\n",
              "    </tr>\n",
              "    <tr>\n",
              "      <th>3</th>\n",
              "      <td>WASHINGTON (Reuters) - Republican Donald Trum...</td>\n",
              "      <td>1</td>\n",
              "    </tr>\n",
              "    <tr>\n",
              "      <th>4</th>\n",
              "      <td>ABUJA (Reuters) - More than 2,000 people have ...</td>\n",
              "      <td>1</td>\n",
              "    </tr>\n",
              "    <tr>\n",
              "      <th>5</th>\n",
              "      <td>AMSTERDAM/PARIS (Reuters) - Hurricane Irma has...</td>\n",
              "      <td>1</td>\n",
              "    </tr>\n",
              "    <tr>\n",
              "      <th>6</th>\n",
              "      <td>BAGHDAD (Reuters) - U.S. Defense Secretary Jam...</td>\n",
              "      <td>1</td>\n",
              "    </tr>\n",
              "    <tr>\n",
              "      <th>7</th>\n",
              "      <td>With Donald Trump handing out nicknames left a...</td>\n",
              "      <td>0</td>\n",
              "    </tr>\n",
              "    <tr>\n",
              "      <th>8</th>\n",
              "      <td>Try to process this: A woman running for Presi...</td>\n",
              "      <td>0</td>\n",
              "    </tr>\n",
              "    <tr>\n",
              "      <th>9</th>\n",
              "      <td>VATICAN CITY (Reuters) - The former president ...</td>\n",
              "      <td>1</td>\n",
              "    </tr>\n",
              "  </tbody>\n",
              "</table>\n",
              "</div>"
            ],
            "text/plain": [
              "                                                text  class\n",
              "0  BANGKOK (Reuters) - Thailand s ousted former P...      1\n",
              "1  With many people still recovering from such a ...      0\n",
              "2  While there have been what seems like dozens o...      0\n",
              "3   WASHINGTON (Reuters) - Republican Donald Trum...      1\n",
              "4  ABUJA (Reuters) - More than 2,000 people have ...      1\n",
              "5  AMSTERDAM/PARIS (Reuters) - Hurricane Irma has...      1\n",
              "6  BAGHDAD (Reuters) - U.S. Defense Secretary Jam...      1\n",
              "7  With Donald Trump handing out nicknames left a...      0\n",
              "8  Try to process this: A woman running for Presi...      0\n",
              "9  VATICAN CITY (Reuters) - The former president ...      1"
            ]
          },
          "execution_count": 57,
          "metadata": {},
          "output_type": "execute_result"
        }
      ],
      "source": [
        "# Resetting the index of the shuffled dataframe\n",
        "dataframe_shuffled.reset_index(drop=True, inplace=True)\n",
        "\n",
        "# Displaying the first few rows of the dataframe after resetting the index\n",
        "dataframe_shuffled.head(10)"
      ]
    },
    {
      "cell_type": "markdown",
      "id": "8dfb9759-ae08-4edf-81c7-be7bbc647071",
      "metadata": {
        "id": "8dfb9759-ae08-4edf-81c7-be7bbc647071"
      },
      "source": [
        "### Text Cleaning Function"
      ]
    },
    {
      "cell_type": "code",
      "execution_count": null,
      "id": "f8ae699e-d520-474c-91bc-b1a4f0e2fbc7",
      "metadata": {
        "tags": [],
        "id": "f8ae699e-d520-474c-91bc-b1a4f0e2fbc7"
      },
      "outputs": [],
      "source": [
        "# Text cleaning function\n",
        "def clean_text(text):\n",
        "    text = text.lower()  # Convert text to lowercase\n",
        "    text = re.sub(r'\\[.*?\\]', '', text)  # Remove content inside square brackets\n",
        "    text = re.sub(r'https?://\\S+|www\\.\\S+', '', text)  # Remove URLs\n",
        "    text = re.sub(r'<.*?>+', '', text)  # Remove HTML tags\n",
        "    text = re.sub(r'[%s]' % re.escape(string.punctuation), '', text)  # Remove punctuation marks\n",
        "    text = re.sub(r'\\n', '', text)  # Remove newline characters\n",
        "    text = re.sub(r'\\w*\\d\\w*', '', text)  # Remove words containing numbers\n",
        "    return text\n",
        "\n",
        "# Applying the cleaning function\n",
        "data['text'] = data['text'].apply(clean_text)"
      ]
    },
    {
      "cell_type": "markdown",
      "id": "e97fa358-7222-441b-9b8e-97d1a69588c6",
      "metadata": {
        "tags": [],
        "id": "e97fa358-7222-441b-9b8e-97d1a69588c6"
      },
      "source": [
        "### Splitting the Data into Training, Validation, and Test Sets"
      ]
    },
    {
      "cell_type": "code",
      "execution_count": null,
      "id": "9b42d011-db23-43b9-b808-554a420237df",
      "metadata": {
        "tags": [],
        "id": "9b42d011-db23-43b9-b808-554a420237df",
        "outputId": "16588e41-2169-4c8b-fa24-cbe13d1fe10c"
      },
      "outputs": [
        {
          "name": "stdout",
          "output_type": "stream",
          "text": [
            "Training set size: 31413\n",
            "Validation set size: 6733\n",
            "Testing set size: 6732\n"
          ]
        }
      ],
      "source": [
        "# Features and labels\n",
        "x = data['text']  # Features (text data)\n",
        "y = data['class']  # Labels (class)\n",
        "\n",
        "# Creating training, validation, and test sets\n",
        "x_train_temp, x_test, y_train_temp, y_test = train_test_split(\n",
        "    x, y, test_size=0.15, random_state=42, stratify=y\n",
        ")\n",
        "\n",
        "x_train, x_val, y_train, y_val = train_test_split(\n",
        "    x_train_temp, y_train_temp, test_size=0.1765, random_state=42, stratify=y_train_temp\n",
        ")\n",
        "\n",
        "# Checking the sizes of the training, validation, and test sets\n",
        "print(\"Training set size:\", len(x_train))\n",
        "print(\"Validation set size:\", len(x_val))\n",
        "print(\"Testing set size:\", len(x_test))"
      ]
    },
    {
      "cell_type": "markdown",
      "id": "25def0c4-f576-4b9a-afc4-b3d4724195b4",
      "metadata": {
        "id": "25def0c4-f576-4b9a-afc4-b3d4724195b4"
      },
      "source": [
        "### TF-IDF Vectorization for Text Data"
      ]
    },
    {
      "cell_type": "code",
      "execution_count": null,
      "id": "1b090948-479b-402c-a858-0bcac2b2b0f6",
      "metadata": {
        "tags": [],
        "id": "1b090948-479b-402c-a858-0bcac2b2b0f6",
        "outputId": "4f533bc4-1dc7-495c-b3b6-a1b920aa05a2"
      },
      "outputs": [
        {
          "name": "stdout",
          "output_type": "stream",
          "text": [
            "TF-IDF matrix shape (Training): (31413, 1000)\n",
            "TF-IDF matrix shape (Validation): (6733, 1000)\n",
            "TF-IDF matrix shape (Testing): (6732, 1000)\n"
          ]
        }
      ],
      "source": [
        "# Create a TF-IDF vectorizer\n",
        "tfidf_vectorizer = TfidfVectorizer(max_features=1000, ngram_range=(1, 1), stop_words='english')\n",
        "\n",
        "# Transform the training data into TF-IDF vectors\n",
        "x_train_tfidf = tfidf_vectorizer.fit_transform(x_train)\n",
        "\n",
        "# Transform the validation and test data using the same vectorizer\n",
        "x_val_tfidf = tfidf_vectorizer.transform(x_val)\n",
        "x_test_tfidf = tfidf_vectorizer.transform(x_test)\n",
        "\n",
        "# Check the shapes of the TF-IDF matrices\n",
        "print(\"TF-IDF matrix shape (Training):\", x_train_tfidf.shape)\n",
        "print(\"TF-IDF matrix shape (Validation):\", x_val_tfidf.shape)\n",
        "print(\"TF-IDF matrix shape (Testing):\", x_test_tfidf.shape)"
      ]
    },
    {
      "cell_type": "markdown",
      "id": "6f726c1e-66bb-4cfc-ba47-04a98944ef3a",
      "metadata": {
        "id": "6f726c1e-66bb-4cfc-ba47-04a98944ef3a"
      },
      "source": [
        "### Machine Learning Models"
      ]
    },
    {
      "cell_type": "markdown",
      "id": "969f7550-12dc-424b-a65b-bdbe37bbaa25",
      "metadata": {
        "id": "969f7550-12dc-424b-a65b-bdbe37bbaa25"
      },
      "source": [
        "#### Logistic Regression"
      ]
    },
    {
      "cell_type": "code",
      "execution_count": null,
      "id": "f562dc6c-ab52-4575-80bc-9083bafca209",
      "metadata": {
        "tags": [],
        "id": "f562dc6c-ab52-4575-80bc-9083bafca209",
        "outputId": "25709b63-5612-48c0-a84f-cf76fb385ec3"
      },
      "outputs": [
        {
          "data": {
            "text/html": [
              "<style>#sk-container-id-1 {color: black;}#sk-container-id-1 pre{padding: 0;}#sk-container-id-1 div.sk-toggleable {background-color: white;}#sk-container-id-1 label.sk-toggleable__label {cursor: pointer;display: block;width: 100%;margin-bottom: 0;padding: 0.3em;box-sizing: border-box;text-align: center;}#sk-container-id-1 label.sk-toggleable__label-arrow:before {content: \"▸\";float: left;margin-right: 0.25em;color: #696969;}#sk-container-id-1 label.sk-toggleable__label-arrow:hover:before {color: black;}#sk-container-id-1 div.sk-estimator:hover label.sk-toggleable__label-arrow:before {color: black;}#sk-container-id-1 div.sk-toggleable__content {max-height: 0;max-width: 0;overflow: hidden;text-align: left;background-color: #f0f8ff;}#sk-container-id-1 div.sk-toggleable__content pre {margin: 0.2em;color: black;border-radius: 0.25em;background-color: #f0f8ff;}#sk-container-id-1 input.sk-toggleable__control:checked~div.sk-toggleable__content {max-height: 200px;max-width: 100%;overflow: auto;}#sk-container-id-1 input.sk-toggleable__control:checked~label.sk-toggleable__label-arrow:before {content: \"▾\";}#sk-container-id-1 div.sk-estimator input.sk-toggleable__control:checked~label.sk-toggleable__label {background-color: #d4ebff;}#sk-container-id-1 div.sk-label input.sk-toggleable__control:checked~label.sk-toggleable__label {background-color: #d4ebff;}#sk-container-id-1 input.sk-hidden--visually {border: 0;clip: rect(1px 1px 1px 1px);clip: rect(1px, 1px, 1px, 1px);height: 1px;margin: -1px;overflow: hidden;padding: 0;position: absolute;width: 1px;}#sk-container-id-1 div.sk-estimator {font-family: monospace;background-color: #f0f8ff;border: 1px dotted black;border-radius: 0.25em;box-sizing: border-box;margin-bottom: 0.5em;}#sk-container-id-1 div.sk-estimator:hover {background-color: #d4ebff;}#sk-container-id-1 div.sk-parallel-item::after {content: \"\";width: 100%;border-bottom: 1px solid gray;flex-grow: 1;}#sk-container-id-1 div.sk-label:hover label.sk-toggleable__label {background-color: #d4ebff;}#sk-container-id-1 div.sk-serial::before {content: \"\";position: absolute;border-left: 1px solid gray;box-sizing: border-box;top: 0;bottom: 0;left: 50%;z-index: 0;}#sk-container-id-1 div.sk-serial {display: flex;flex-direction: column;align-items: center;background-color: white;padding-right: 0.2em;padding-left: 0.2em;position: relative;}#sk-container-id-1 div.sk-item {position: relative;z-index: 1;}#sk-container-id-1 div.sk-parallel {display: flex;align-items: stretch;justify-content: center;background-color: white;position: relative;}#sk-container-id-1 div.sk-item::before, #sk-container-id-1 div.sk-parallel-item::before {content: \"\";position: absolute;border-left: 1px solid gray;box-sizing: border-box;top: 0;bottom: 0;left: 50%;z-index: -1;}#sk-container-id-1 div.sk-parallel-item {display: flex;flex-direction: column;z-index: 1;position: relative;background-color: white;}#sk-container-id-1 div.sk-parallel-item:first-child::after {align-self: flex-end;width: 50%;}#sk-container-id-1 div.sk-parallel-item:last-child::after {align-self: flex-start;width: 50%;}#sk-container-id-1 div.sk-parallel-item:only-child::after {width: 0;}#sk-container-id-1 div.sk-dashed-wrapped {border: 1px dashed gray;margin: 0 0.4em 0.5em 0.4em;box-sizing: border-box;padding-bottom: 0.4em;background-color: white;}#sk-container-id-1 div.sk-label label {font-family: monospace;font-weight: bold;display: inline-block;line-height: 1.2em;}#sk-container-id-1 div.sk-label-container {text-align: center;}#sk-container-id-1 div.sk-container {/* jupyter's `normalize.less` sets `[hidden] { display: none; }` but bootstrap.min.css set `[hidden] { display: none !important; }` so we also need the `!important` here to be able to override the default hidden behavior on the sphinx rendered scikit-learn.org. See: https://github.com/scikit-learn/scikit-learn/issues/21755 */display: inline-block !important;position: relative;}#sk-container-id-1 div.sk-text-repr-fallback {display: none;}</style><div id=\"sk-container-id-1\" class=\"sk-top-container\"><div class=\"sk-text-repr-fallback\"><pre>LogisticRegression(n_jobs=-1, random_state=42)</pre><b>In a Jupyter environment, please rerun this cell to show the HTML representation or trust the notebook. <br />On GitHub, the HTML representation is unable to render, please try loading this page with nbviewer.org.</b></div><div class=\"sk-container\" hidden><div class=\"sk-item\"><div class=\"sk-estimator sk-toggleable\"><input class=\"sk-toggleable__control sk-hidden--visually\" id=\"sk-estimator-id-1\" type=\"checkbox\" checked><label for=\"sk-estimator-id-1\" class=\"sk-toggleable__label sk-toggleable__label-arrow\">LogisticRegression</label><div class=\"sk-toggleable__content\"><pre>LogisticRegression(n_jobs=-1, random_state=42)</pre></div></div></div></div></div>"
            ],
            "text/plain": [
              "LogisticRegression(n_jobs=-1, random_state=42)"
            ]
          },
          "execution_count": 70,
          "metadata": {},
          "output_type": "execute_result"
        }
      ],
      "source": [
        "# Logistic Regression Model\n",
        "logistic_model = LogisticRegression(random_state=42, n_jobs=-1)\n",
        "logistic_model.fit(x_train_tfidf, y_train)"
      ]
    },
    {
      "cell_type": "code",
      "execution_count": null,
      "id": "649d1b3e-da25-4e8a-817e-d02a2ca13b68",
      "metadata": {
        "tags": [],
        "id": "649d1b3e-da25-4e8a-817e-d02a2ca13b68",
        "outputId": "ccf049f4-4454-4413-93e2-b55b0e9b453a"
      },
      "outputs": [
        {
          "name": "stdout",
          "output_type": "stream",
          "text": [
            "Logistic Regression - Training Accuracy: 0.987425588132302\n",
            "Logistic Regression - Validation Accuracy: 0.9832169909401456\n",
            "Logistic Regression - Test Accuracy: 0.9854426619132501\n"
          ]
        }
      ],
      "source": [
        "# Predictions for Logistic Regression\n",
        "y_train_pred = logistic_model.predict(x_train_tfidf)\n",
        "y_val_pred = logistic_model.predict(x_val_tfidf)\n",
        "y_test_pred = logistic_model.predict(x_test_tfidf)\n",
        "\n",
        "# Accuracy Metrics for Logistic Regression\n",
        "train_accuracy_lr = accuracy_score(y_train, y_train_pred)\n",
        "val_accuracy_lr = accuracy_score(y_val, y_val_pred)\n",
        "test_accuracy_lr = accuracy_score(y_test, y_test_pred)\n",
        "\n",
        "print(\"Logistic Regression - Training Accuracy:\", train_accuracy_lr)\n",
        "print(\"Logistic Regression - Validation Accuracy:\", val_accuracy_lr)\n",
        "print(\"Logistic Regression - Test Accuracy:\", test_accuracy_lr)"
      ]
    },
    {
      "cell_type": "code",
      "execution_count": null,
      "id": "6792615b-6a04-4062-bf7a-297f0e7fcba0",
      "metadata": {
        "id": "6792615b-6a04-4062-bf7a-297f0e7fcba0",
        "outputId": "2f78138e-336d-4d93-a6aa-a43499dc6bae"
      },
      "outputs": [
        {
          "name": "stdout",
          "output_type": "stream",
          "text": [
            "Logistic Regression - Training Loss: 0.06651800632419333\n",
            "Logistic Regression - Validation Loss: 0.07513112322337481\n",
            "Logistic Regression - Test Loss: 0.07049439994543467\n"
          ]
        }
      ],
      "source": [
        "# Probabilities for Logistic Regression (needed for log_loss)\n",
        "y_train_pred_proba_lr = logistic_model.predict_proba(x_train_tfidf)\n",
        "y_val_pred_proba_lr = logistic_model.predict_proba(x_val_tfidf)\n",
        "y_test_pred_proba_lr = logistic_model.predict_proba(x_test_tfidf)\n",
        "\n",
        "# Loss Metrics for Logistic Regression\n",
        "train_loss_lr = log_loss(y_train, y_train_pred_proba_lr)\n",
        "val_loss_lr = log_loss(y_val, y_val_pred_proba_lr)\n",
        "test_loss_lr = log_loss(y_test, y_test_pred_proba_lr)\n",
        "\n",
        "# Print Loss Metrics for Logistic Regression\n",
        "print(\"Logistic Regression - Training Loss:\", train_loss_lr)\n",
        "print(\"Logistic Regression - Validation Loss:\", val_loss_lr)\n",
        "print(\"Logistic Regression - Test Loss:\", test_loss_lr)"
      ]
    },
    {
      "cell_type": "code",
      "execution_count": null,
      "id": "8180885e-4d81-40e9-9327-3e3dddd22ba5",
      "metadata": {
        "tags": [],
        "id": "8180885e-4d81-40e9-9327-3e3dddd22ba5",
        "outputId": "5d194905-a1a9-40fc-bdaf-eaed2ff723db"
      },
      "outputs": [
        {
          "name": "stdout",
          "output_type": "stream",
          "text": [
            "\n",
            "Classification Report - Logistic Regression:\n",
            "              precision    recall  f1-score   support\n",
            "\n",
            "           0       0.98      0.98      0.98      3521\n",
            "           1       0.98      0.98      0.98      3212\n",
            "\n",
            "    accuracy                           0.98      6733\n",
            "   macro avg       0.98      0.98      0.98      6733\n",
            "weighted avg       0.98      0.98      0.98      6733\n",
            "\n"
          ]
        }
      ],
      "source": [
        "# Classification Report for Logistic Regression\n",
        "print(\"\\nClassification Report - Logistic Regression:\")\n",
        "print(classification_report(y_val, y_val_pred))"
      ]
    },
    {
      "cell_type": "code",
      "execution_count": null,
      "id": "50e729ba-cb68-48ab-96e9-e3c44e7b26c7",
      "metadata": {
        "tags": [],
        "id": "50e729ba-cb68-48ab-96e9-e3c44e7b26c7",
        "outputId": "7598d049-84ef-4c92-b52c-02feb502226a"
      },
      "outputs": [
        {
          "data": {
            "image/png": "[encoded data removed]",
            "text/plain": [
              "<Figure size 800x600 with 2 Axes>"
            ]
          },
          "metadata": {},
          "output_type": "display_data"
        }
      ],
      "source": [
        "# Display the Confusion Matrix\n",
        "cm_lr = confusion_matrix(y_val, y_val_pred)\n",
        "\n",
        "plt.figure(figsize=(8, 6))\n",
        "sns.heatmap(cm_lr, annot=True, fmt='d', cmap='Blues', xticklabels=set(y_val), yticklabels=set(y_val))\n",
        "plt.title(\"Confusion Matrix\")\n",
        "plt.xlabel(\"Predicted Labels\")\n",
        "plt.ylabel(\"True Labels\")\n",
        "plt.show()"
      ]
    },
    {
      "cell_type": "markdown",
      "id": "99ca157a-e3e3-41a2-8005-0fd3ad7923f0",
      "metadata": {
        "id": "99ca157a-e3e3-41a2-8005-0fd3ad7923f0"
      },
      "source": [
        "### Decision Tree"
      ]
    },
    {
      "cell_type": "code",
      "execution_count": null,
      "id": "ea696737-3c90-4a24-b5aa-956887a3a384",
      "metadata": {
        "tags": [],
        "id": "ea696737-3c90-4a24-b5aa-956887a3a384",
        "outputId": "be284f49-d413-4cd6-f08e-1b09f53ba55a"
      },
      "outputs": [
        {
          "data": {
            "text/html": [
              "<style>#sk-container-id-2 {color: black;}#sk-container-id-2 pre{padding: 0;}#sk-container-id-2 div.sk-toggleable {background-color: white;}#sk-container-id-2 label.sk-toggleable__label {cursor: pointer;display: block;width: 100%;margin-bottom: 0;padding: 0.3em;box-sizing: border-box;text-align: center;}#sk-container-id-2 label.sk-toggleable__label-arrow:before {content: \"▸\";float: left;margin-right: 0.25em;color: #696969;}#sk-container-id-2 label.sk-toggleable__label-arrow:hover:before {color: black;}#sk-container-id-2 div.sk-estimator:hover label.sk-toggleable__label-arrow:before {color: black;}#sk-container-id-2 div.sk-toggleable__content {max-height: 0;max-width: 0;overflow: hidden;text-align: left;background-color: #f0f8ff;}#sk-container-id-2 div.sk-toggleable__content pre {margin: 0.2em;color: black;border-radius: 0.25em;background-color: #f0f8ff;}#sk-container-id-2 input.sk-toggleable__control:checked~div.sk-toggleable__content {max-height: 200px;max-width: 100%;overflow: auto;}#sk-container-id-2 input.sk-toggleable__control:checked~label.sk-toggleable__label-arrow:before {content: \"▾\";}#sk-container-id-2 div.sk-estimator input.sk-toggleable__control:checked~label.sk-toggleable__label {background-color: #d4ebff;}#sk-container-id-2 div.sk-label input.sk-toggleable__control:checked~label.sk-toggleable__label {background-color: #d4ebff;}#sk-container-id-2 input.sk-hidden--visually {border: 0;clip: rect(1px 1px 1px 1px);clip: rect(1px, 1px, 1px, 1px);height: 1px;margin: -1px;overflow: hidden;padding: 0;position: absolute;width: 1px;}#sk-container-id-2 div.sk-estimator {font-family: monospace;background-color: #f0f8ff;border: 1px dotted black;border-radius: 0.25em;box-sizing: border-box;margin-bottom: 0.5em;}#sk-container-id-2 div.sk-estimator:hover {background-color: #d4ebff;}#sk-container-id-2 div.sk-parallel-item::after {content: \"\";width: 100%;border-bottom: 1px solid gray;flex-grow: 1;}#sk-container-id-2 div.sk-label:hover label.sk-toggleable__label {background-color: #d4ebff;}#sk-container-id-2 div.sk-serial::before {content: \"\";position: absolute;border-left: 1px solid gray;box-sizing: border-box;top: 0;bottom: 0;left: 50%;z-index: 0;}#sk-container-id-2 div.sk-serial {display: flex;flex-direction: column;align-items: center;background-color: white;padding-right: 0.2em;padding-left: 0.2em;position: relative;}#sk-container-id-2 div.sk-item {position: relative;z-index: 1;}#sk-container-id-2 div.sk-parallel {display: flex;align-items: stretch;justify-content: center;background-color: white;position: relative;}#sk-container-id-2 div.sk-item::before, #sk-container-id-2 div.sk-parallel-item::before {content: \"\";position: absolute;border-left: 1px solid gray;box-sizing: border-box;top: 0;bottom: 0;left: 50%;z-index: -1;}#sk-container-id-2 div.sk-parallel-item {display: flex;flex-direction: column;z-index: 1;position: relative;background-color: white;}#sk-container-id-2 div.sk-parallel-item:first-child::after {align-self: flex-end;width: 50%;}#sk-container-id-2 div.sk-parallel-item:last-child::after {align-self: flex-start;width: 50%;}#sk-container-id-2 div.sk-parallel-item:only-child::after {width: 0;}#sk-container-id-2 div.sk-dashed-wrapped {border: 1px dashed gray;margin: 0 0.4em 0.5em 0.4em;box-sizing: border-box;padding-bottom: 0.4em;background-color: white;}#sk-container-id-2 div.sk-label label {font-family: monospace;font-weight: bold;display: inline-block;line-height: 1.2em;}#sk-container-id-2 div.sk-label-container {text-align: center;}#sk-container-id-2 div.sk-container {/* jupyter's `normalize.less` sets `[hidden] { display: none; }` but bootstrap.min.css set `[hidden] { display: none !important; }` so we also need the `!important` here to be able to override the default hidden behavior on the sphinx rendered scikit-learn.org. See: https://github.com/scikit-learn/scikit-learn/issues/21755 */display: inline-block !important;position: relative;}#sk-container-id-2 div.sk-text-repr-fallback {display: none;}</style><div id=\"sk-container-id-2\" class=\"sk-top-container\"><div class=\"sk-text-repr-fallback\"><pre>DecisionTreeClassifier(random_state=42)</pre><b>In a Jupyter environment, please rerun this cell to show the HTML representation or trust the notebook. <br />On GitHub, the HTML representation is unable to render, please try loading this page with nbviewer.org.</b></div><div class=\"sk-container\" hidden><div class=\"sk-item\"><div class=\"sk-estimator sk-toggleable\"><input class=\"sk-toggleable__control sk-hidden--visually\" id=\"sk-estimator-id-2\" type=\"checkbox\" checked><label for=\"sk-estimator-id-2\" class=\"sk-toggleable__label sk-toggleable__label-arrow\">DecisionTreeClassifier</label><div class=\"sk-toggleable__content\"><pre>DecisionTreeClassifier(random_state=42)</pre></div></div></div></div></div>"
            ],
            "text/plain": [
              "DecisionTreeClassifier(random_state=42)"
            ]
          },
          "execution_count": 81,
          "metadata": {},
          "output_type": "execute_result"
        }
      ],
      "source": [
        "# Decision Tree Model\n",
        "decision_tree_model = DecisionTreeClassifier(random_state=42)\n",
        "decision_tree_model.fit(x_train_tfidf, y_train)"
      ]
    },
    {
      "cell_type": "code",
      "execution_count": null,
      "id": "927c1c13-205f-4bf1-89a2-e46df8d4c81b",
      "metadata": {
        "id": "927c1c13-205f-4bf1-89a2-e46df8d4c81b",
        "outputId": "519296db-2e62-415d-9cd0-4c777fec20bd"
      },
      "outputs": [
        {
          "name": "stdout",
          "output_type": "stream",
          "text": [
            "Decision Tree - Training Accuracy: 1.0\n",
            "Decision Tree - Validation Accuracy: 0.9952472894697757\n",
            "Decision Tree - Test Accuracy: 0.994058229352347\n"
          ]
        }
      ],
      "source": [
        "# Predictions for Decision Tree\n",
        "y_train_pred = decision_tree_model.predict(x_train_tfidf)\n",
        "y_val_pred = decision_tree_model.predict(x_val_tfidf)\n",
        "y_test_pred = decision_tree_model.predict(x_test_tfidf)\n",
        "\n",
        "# Accuracy Metrics for Decision Tree\n",
        "train_accuracy_dt = accuracy_score(y_train, y_train_pred)\n",
        "val_accuracy_dt = accuracy_score(y_val, y_val_pred)\n",
        "test_accuracy_dt = accuracy_score(y_test, y_test_pred)\n",
        "\n",
        "print(\"Decision Tree - Training Accuracy:\", train_accuracy_dt)\n",
        "print(\"Decision Tree - Validation Accuracy:\", val_accuracy_dt)\n",
        "print(\"Decision Tree - Test Accuracy:\", test_accuracy_dt)"
      ]
    },
    {
      "cell_type": "code",
      "execution_count": null,
      "id": "2291480f-2209-41c4-acc8-95c555006c45",
      "metadata": {
        "id": "2291480f-2209-41c4-acc8-95c555006c45",
        "outputId": "3901dde0-c7cf-49ec-ef8b-9557777b0970"
      },
      "outputs": [
        {
          "name": "stdout",
          "output_type": "stream",
          "text": [
            "Decision Tree - Training Loss: 2.2204460492503136e-16\n",
            "Decision Tree - Validation Loss: 0.17130505101021093\n",
            "Decision Tree - Test Loss: 0.21416312174163513\n"
          ]
        }
      ],
      "source": [
        "# Probabilities for Decision Tree (needed for log_loss)\n",
        "y_train_pred_proba_dt = decision_tree_model.predict_proba(x_train_tfidf)\n",
        "y_val_pred_proba_dt = decision_tree_model.predict_proba(x_val_tfidf)\n",
        "y_test_pred_proba_dt = decision_tree_model.predict_proba(x_test_tfidf)\n",
        "\n",
        "# Loss Metrics for Decision Tree\n",
        "train_loss_dt = log_loss(y_train, y_train_pred_proba_dt)\n",
        "val_loss_dt = log_loss(y_val, y_val_pred_proba_dt)\n",
        "test_loss_dt = log_loss(y_test, y_test_pred_proba_dt)\n",
        "\n",
        "# Print Loss Metrics for Decision Tree\n",
        "print(\"Decision Tree - Training Loss:\", train_loss_dt)\n",
        "print(\"Decision Tree - Validation Loss:\", val_loss_dt)\n",
        "print(\"Decision Tree - Test Loss:\", test_loss_dt)"
      ]
    },
    {
      "cell_type": "code",
      "execution_count": null,
      "id": "2e2a64ae-df74-4f16-ae8e-0a77d7d5299f",
      "metadata": {
        "id": "2e2a64ae-df74-4f16-ae8e-0a77d7d5299f",
        "outputId": "6619398c-c75f-4037-ac31-e038f44547ea"
      },
      "outputs": [
        {
          "name": "stdout",
          "output_type": "stream",
          "text": [
            "\n",
            "Classification Report - Decision Tree:\n",
            "              precision    recall  f1-score   support\n",
            "\n",
            "           0       1.00      0.99      1.00      3521\n",
            "           1       0.99      1.00      1.00      3212\n",
            "\n",
            "    accuracy                           1.00      6733\n",
            "   macro avg       1.00      1.00      1.00      6733\n",
            "weighted avg       1.00      1.00      1.00      6733\n",
            "\n"
          ]
        }
      ],
      "source": [
        "# Classification Report for Decision Tree\n",
        "print(\"\\nClassification Report - Decision Tree:\")\n",
        "print(classification_report(y_val, y_val_pred))"
      ]
    },
    {
      "cell_type": "code",
      "execution_count": null,
      "id": "81488812-1cec-4c6b-bd55-aa3b296bd245",
      "metadata": {
        "id": "81488812-1cec-4c6b-bd55-aa3b296bd245",
        "outputId": "cc8db7b9-aaaa-48ca-cad1-ec4f850f696b"
      },
      "outputs": [
        {
          "data": {
            "image/png": "[encoded data removed]",
            "text/plain": [
              "<Figure size 800x600 with 2 Axes>"
            ]
          },
          "metadata": {},
          "output_type": "display_data"
        }
      ],
      "source": [
        "# Display the Confusion Matrix for Validation Set\n",
        "cm_dt = confusion_matrix(y_val, y_val_pred)\n",
        "\n",
        "plt.figure(figsize=(8, 6))\n",
        "sns.heatmap(cm_dt, annot=True, fmt='d', cmap='Blues', xticklabels=set(y_val), yticklabels=set(y_val))\n",
        "plt.title(\"Confusion Matrix - Decision Tree\")\n",
        "plt.xlabel(\"Predicted Labels\")\n",
        "plt.ylabel(\"True Labels\")\n",
        "plt.show()"
      ]
    },
    {
      "cell_type": "markdown",
      "id": "44d99154-e91b-46bd-8adf-34bd6f793b9b",
      "metadata": {
        "id": "44d99154-e91b-46bd-8adf-34bd6f793b9b"
      },
      "source": [
        "### Random Forest"
      ]
    },
    {
      "cell_type": "code",
      "execution_count": null,
      "id": "762b287a-4d70-4e9d-80fb-5e3c00fe9902",
      "metadata": {
        "tags": [],
        "id": "762b287a-4d70-4e9d-80fb-5e3c00fe9902",
        "outputId": "3cea9c62-faec-43dd-e839-f46558311343"
      },
      "outputs": [
        {
          "data": {
            "text/html": [
              "<style>#sk-container-id-3 {color: black;}#sk-container-id-3 pre{padding: 0;}#sk-container-id-3 div.sk-toggleable {background-color: white;}#sk-container-id-3 label.sk-toggleable__label {cursor: pointer;display: block;width: 100%;margin-bottom: 0;padding: 0.3em;box-sizing: border-box;text-align: center;}#sk-container-id-3 label.sk-toggleable__label-arrow:before {content: \"▸\";float: left;margin-right: 0.25em;color: #696969;}#sk-container-id-3 label.sk-toggleable__label-arrow:hover:before {color: black;}#sk-container-id-3 div.sk-estimator:hover label.sk-toggleable__label-arrow:before {color: black;}#sk-container-id-3 div.sk-toggleable__content {max-height: 0;max-width: 0;overflow: hidden;text-align: left;background-color: #f0f8ff;}#sk-container-id-3 div.sk-toggleable__content pre {margin: 0.2em;color: black;border-radius: 0.25em;background-color: #f0f8ff;}#sk-container-id-3 input.sk-toggleable__control:checked~div.sk-toggleable__content {max-height: 200px;max-width: 100%;overflow: auto;}#sk-container-id-3 input.sk-toggleable__control:checked~label.sk-toggleable__label-arrow:before {content: \"▾\";}#sk-container-id-3 div.sk-estimator input.sk-toggleable__control:checked~label.sk-toggleable__label {background-color: #d4ebff;}#sk-container-id-3 div.sk-label input.sk-toggleable__control:checked~label.sk-toggleable__label {background-color: #d4ebff;}#sk-container-id-3 input.sk-hidden--visually {border: 0;clip: rect(1px 1px 1px 1px);clip: rect(1px, 1px, 1px, 1px);height: 1px;margin: -1px;overflow: hidden;padding: 0;position: absolute;width: 1px;}#sk-container-id-3 div.sk-estimator {font-family: monospace;background-color: #f0f8ff;border: 1px dotted black;border-radius: 0.25em;box-sizing: border-box;margin-bottom: 0.5em;}#sk-container-id-3 div.sk-estimator:hover {background-color: #d4ebff;}#sk-container-id-3 div.sk-parallel-item::after {content: \"\";width: 100%;border-bottom: 1px solid gray;flex-grow: 1;}#sk-container-id-3 div.sk-label:hover label.sk-toggleable__label {background-color: #d4ebff;}#sk-container-id-3 div.sk-serial::before {content: \"\";position: absolute;border-left: 1px solid gray;box-sizing: border-box;top: 0;bottom: 0;left: 50%;z-index: 0;}#sk-container-id-3 div.sk-serial {display: flex;flex-direction: column;align-items: center;background-color: white;padding-right: 0.2em;padding-left: 0.2em;position: relative;}#sk-container-id-3 div.sk-item {position: relative;z-index: 1;}#sk-container-id-3 div.sk-parallel {display: flex;align-items: stretch;justify-content: center;background-color: white;position: relative;}#sk-container-id-3 div.sk-item::before, #sk-container-id-3 div.sk-parallel-item::before {content: \"\";position: absolute;border-left: 1px solid gray;box-sizing: border-box;top: 0;bottom: 0;left: 50%;z-index: -1;}#sk-container-id-3 div.sk-parallel-item {display: flex;flex-direction: column;z-index: 1;position: relative;background-color: white;}#sk-container-id-3 div.sk-parallel-item:first-child::after {align-self: flex-end;width: 50%;}#sk-container-id-3 div.sk-parallel-item:last-child::after {align-self: flex-start;width: 50%;}#sk-container-id-3 div.sk-parallel-item:only-child::after {width: 0;}#sk-container-id-3 div.sk-dashed-wrapped {border: 1px dashed gray;margin: 0 0.4em 0.5em 0.4em;box-sizing: border-box;padding-bottom: 0.4em;background-color: white;}#sk-container-id-3 div.sk-label label {font-family: monospace;font-weight: bold;display: inline-block;line-height: 1.2em;}#sk-container-id-3 div.sk-label-container {text-align: center;}#sk-container-id-3 div.sk-container {/* jupyter's `normalize.less` sets `[hidden] { display: none; }` but bootstrap.min.css set `[hidden] { display: none !important; }` so we also need the `!important` here to be able to override the default hidden behavior on the sphinx rendered scikit-learn.org. See: https://github.com/scikit-learn/scikit-learn/issues/21755 */display: inline-block !important;position: relative;}#sk-container-id-3 div.sk-text-repr-fallback {display: none;}</style><div id=\"sk-container-id-3\" class=\"sk-top-container\"><div class=\"sk-text-repr-fallback\"><pre>RandomForestClassifier(n_estimators=50, n_jobs=-1, random_state=42)</pre><b>In a Jupyter environment, please rerun this cell to show the HTML representation or trust the notebook. <br />On GitHub, the HTML representation is unable to render, please try loading this page with nbviewer.org.</b></div><div class=\"sk-container\" hidden><div class=\"sk-item\"><div class=\"sk-estimator sk-toggleable\"><input class=\"sk-toggleable__control sk-hidden--visually\" id=\"sk-estimator-id-3\" type=\"checkbox\" checked><label for=\"sk-estimator-id-3\" class=\"sk-toggleable__label sk-toggleable__label-arrow\">RandomForestClassifier</label><div class=\"sk-toggleable__content\"><pre>RandomForestClassifier(n_estimators=50, n_jobs=-1, random_state=42)</pre></div></div></div></div></div>"
            ],
            "text/plain": [
              "RandomForestClassifier(n_estimators=50, n_jobs=-1, random_state=42)"
            ]
          },
          "execution_count": 92,
          "metadata": {},
          "output_type": "execute_result"
        }
      ],
      "source": [
        "# Random Forest Model\n",
        "rf_model = RandomForestClassifier(n_estimators=50, random_state=42, n_jobs=-1)\n",
        "rf_model.fit(x_train_tfidf, y_train)"
      ]
    },
    {
      "cell_type": "code",
      "execution_count": null,
      "id": "16e1f58d-17fa-47ab-9d66-22985a4b98fb",
      "metadata": {
        "id": "16e1f58d-17fa-47ab-9d66-22985a4b98fb",
        "outputId": "1f14d696-c301-492c-dd0f-13201076e221"
      },
      "outputs": [
        {
          "name": "stdout",
          "output_type": "stream",
          "text": [
            "Random Forest - Training Accuracy: 1.0\n",
            "Random Forest - Validation Accuracy: 0.9964354671023318\n",
            "Random Forest - Test Accuracy: 0.9965834818775995\n"
          ]
        }
      ],
      "source": [
        "# Predictions for Random Forest\n",
        "y_train_pred_rf = rf_model.predict(x_train_tfidf)\n",
        "y_val_pred_rf = rf_model.predict(x_val_tfidf)\n",
        "y_test_pred_rf = rf_model.predict(x_test_tfidf)\n",
        "\n",
        "# Accuracy Metrics for Random Forest\n",
        "train_accuracy_rf = accuracy_score(y_train, y_train_pred_rf)\n",
        "val_accuracy_rf = accuracy_score(y_val, y_val_pred_rf)\n",
        "test_accuracy_rf = accuracy_score(y_test, y_test_pred_rf)\n",
        "\n",
        "print(\"Random Forest - Training Accuracy:\", train_accuracy_rf)\n",
        "print(\"Random Forest - Validation Accuracy:\", val_accuracy_rf)\n",
        "print(\"Random Forest - Test Accuracy:\", test_accuracy_rf)"
      ]
    },
    {
      "cell_type": "code",
      "execution_count": null,
      "id": "2e6ef8ea-dc0f-43c5-97b3-f37b3d75e796",
      "metadata": {
        "id": "2e6ef8ea-dc0f-43c5-97b3-f37b3d75e796",
        "outputId": "342f878e-30b5-492e-8c26-169525c5fd8c"
      },
      "outputs": [
        {
          "name": "stdout",
          "output_type": "stream",
          "text": [
            "Random Forest - Training Loss: 0.02679092418867838\n",
            "Random Forest - Validation Loss: 0.08369734976072507\n",
            "Random Forest - Test Loss: 0.07731987898619158\n"
          ]
        }
      ],
      "source": [
        "# Probabilities for Random Forest (needed for log_loss)\n",
        "y_train_pred_proba_rf = rf_model.predict_proba(x_train_tfidf)\n",
        "y_val_pred_proba_rf = rf_model.predict_proba(x_val_tfidf)\n",
        "y_test_pred_proba_rf = rf_model.predict_proba(x_test_tfidf)\n",
        "\n",
        "# Loss Metrics for Random Forest\n",
        "train_loss_rf = log_loss(y_train, y_train_pred_proba_rf)\n",
        "val_loss_rf = log_loss(y_val, y_val_pred_proba_rf)\n",
        "test_loss_rf = log_loss(y_test, y_test_pred_proba_rf)\n",
        "\n",
        "# Print Loss Metrics for Random Forest\n",
        "print(\"Random Forest - Training Loss:\", train_loss_rf)\n",
        "print(\"Random Forest - Validation Loss:\", val_loss_rf)\n",
        "print(\"Random Forest - Test Loss:\", test_loss_rf)"
      ]
    },
    {
      "cell_type": "code",
      "execution_count": null,
      "id": "e5b9bcd6-f8e2-43b0-8f36-814c837ce06a",
      "metadata": {
        "id": "e5b9bcd6-f8e2-43b0-8f36-814c837ce06a",
        "outputId": "c1709262-73c2-4538-ecd2-e60b7ac493b5"
      },
      "outputs": [
        {
          "name": "stdout",
          "output_type": "stream",
          "text": [
            "\n",
            "Classification Report - Random Forest:\n",
            "              precision    recall  f1-score   support\n",
            "\n",
            "           0       1.00      1.00      1.00      3521\n",
            "           1       1.00      1.00      1.00      3212\n",
            "\n",
            "    accuracy                           1.00      6733\n",
            "   macro avg       1.00      1.00      1.00      6733\n",
            "weighted avg       1.00      1.00      1.00      6733\n",
            "\n"
          ]
        }
      ],
      "source": [
        "# Classification Report for Random Forest\n",
        "print(\"\\nClassification Report - Random Forest:\")\n",
        "print(classification_report(y_val, y_val_pred_rf))"
      ]
    },
    {
      "cell_type": "code",
      "execution_count": null,
      "id": "5958f071-308a-4050-a76d-0d5c990f9968",
      "metadata": {
        "id": "5958f071-308a-4050-a76d-0d5c990f9968",
        "outputId": "f30ffac1-3831-4c55-d811-074a1ccc4e78"
      },
      "outputs": [
        {
          "data": {
            "image/png": "[encoded data removed]",
            "text/plain": [
              "<Figure size 800x600 with 2 Axes>"
            ]
          },
          "metadata": {},
          "output_type": "display_data"
        }
      ],
      "source": [
        "# Display the Confusion Matrix for Validation Set - Random Forest\n",
        "cm_rf = confusion_matrix(y_val, y_val_pred_rf)  # Use predictions from the Random Forest model\n",
        "\n",
        "plt.figure(figsize=(8, 6))\n",
        "sns.heatmap(cm_rf, annot=True, fmt='d', cmap='Blues', xticklabels=set(y_val), yticklabels=set(y_val))\n",
        "plt.title(\"Confusion Matrix - Random Forest\")\n",
        "plt.xlabel(\"Predicted Labels\")\n",
        "plt.ylabel(\"True Labels\")\n",
        "plt.show()"
      ]
    },
    {
      "cell_type": "markdown",
      "id": "dfd746d1-0d1b-4b9a-932d-18cfe22a7d6d",
      "metadata": {
        "id": "dfd746d1-0d1b-4b9a-932d-18cfe22a7d6d"
      },
      "source": [
        "### Gradient Boosting"
      ]
    },
    {
      "cell_type": "code",
      "execution_count": null,
      "id": "acfcfb37-9768-4471-91f7-706dbbc06ff6",
      "metadata": {
        "id": "acfcfb37-9768-4471-91f7-706dbbc06ff6",
        "outputId": "010984bd-93b1-4b33-9681-ba5eaf7b4dde"
      },
      "outputs": [
        {
          "data": {
            "text/html": [
              "<style>#sk-container-id-4 {color: black;}#sk-container-id-4 pre{padding: 0;}#sk-container-id-4 div.sk-toggleable {background-color: white;}#sk-container-id-4 label.sk-toggleable__label {cursor: pointer;display: block;width: 100%;margin-bottom: 0;padding: 0.3em;box-sizing: border-box;text-align: center;}#sk-container-id-4 label.sk-toggleable__label-arrow:before {content: \"▸\";float: left;margin-right: 0.25em;color: #696969;}#sk-container-id-4 label.sk-toggleable__label-arrow:hover:before {color: black;}#sk-container-id-4 div.sk-estimator:hover label.sk-toggleable__label-arrow:before {color: black;}#sk-container-id-4 div.sk-toggleable__content {max-height: 0;max-width: 0;overflow: hidden;text-align: left;background-color: #f0f8ff;}#sk-container-id-4 div.sk-toggleable__content pre {margin: 0.2em;color: black;border-radius: 0.25em;background-color: #f0f8ff;}#sk-container-id-4 input.sk-toggleable__control:checked~div.sk-toggleable__content {max-height: 200px;max-width: 100%;overflow: auto;}#sk-container-id-4 input.sk-toggleable__control:checked~label.sk-toggleable__label-arrow:before {content: \"▾\";}#sk-container-id-4 div.sk-estimator input.sk-toggleable__control:checked~label.sk-toggleable__label {background-color: #d4ebff;}#sk-container-id-4 div.sk-label input.sk-toggleable__control:checked~label.sk-toggleable__label {background-color: #d4ebff;}#sk-container-id-4 input.sk-hidden--visually {border: 0;clip: rect(1px 1px 1px 1px);clip: rect(1px, 1px, 1px, 1px);height: 1px;margin: -1px;overflow: hidden;padding: 0;position: absolute;width: 1px;}#sk-container-id-4 div.sk-estimator {font-family: monospace;background-color: #f0f8ff;border: 1px dotted black;border-radius: 0.25em;box-sizing: border-box;margin-bottom: 0.5em;}#sk-container-id-4 div.sk-estimator:hover {background-color: #d4ebff;}#sk-container-id-4 div.sk-parallel-item::after {content: \"\";width: 100%;border-bottom: 1px solid gray;flex-grow: 1;}#sk-container-id-4 div.sk-label:hover label.sk-toggleable__label {background-color: #d4ebff;}#sk-container-id-4 div.sk-serial::before {content: \"\";position: absolute;border-left: 1px solid gray;box-sizing: border-box;top: 0;bottom: 0;left: 50%;z-index: 0;}#sk-container-id-4 div.sk-serial {display: flex;flex-direction: column;align-items: center;background-color: white;padding-right: 0.2em;padding-left: 0.2em;position: relative;}#sk-container-id-4 div.sk-item {position: relative;z-index: 1;}#sk-container-id-4 div.sk-parallel {display: flex;align-items: stretch;justify-content: center;background-color: white;position: relative;}#sk-container-id-4 div.sk-item::before, #sk-container-id-4 div.sk-parallel-item::before {content: \"\";position: absolute;border-left: 1px solid gray;box-sizing: border-box;top: 0;bottom: 0;left: 50%;z-index: -1;}#sk-container-id-4 div.sk-parallel-item {display: flex;flex-direction: column;z-index: 1;position: relative;background-color: white;}#sk-container-id-4 div.sk-parallel-item:first-child::after {align-self: flex-end;width: 50%;}#sk-container-id-4 div.sk-parallel-item:last-child::after {align-self: flex-start;width: 50%;}#sk-container-id-4 div.sk-parallel-item:only-child::after {width: 0;}#sk-container-id-4 div.sk-dashed-wrapped {border: 1px dashed gray;margin: 0 0.4em 0.5em 0.4em;box-sizing: border-box;padding-bottom: 0.4em;background-color: white;}#sk-container-id-4 div.sk-label label {font-family: monospace;font-weight: bold;display: inline-block;line-height: 1.2em;}#sk-container-id-4 div.sk-label-container {text-align: center;}#sk-container-id-4 div.sk-container {/* jupyter's `normalize.less` sets `[hidden] { display: none; }` but bootstrap.min.css set `[hidden] { display: none !important; }` so we also need the `!important` here to be able to override the default hidden behavior on the sphinx rendered scikit-learn.org. See: https://github.com/scikit-learn/scikit-learn/issues/21755 */display: inline-block !important;position: relative;}#sk-container-id-4 div.sk-text-repr-fallback {display: none;}</style><div id=\"sk-container-id-4\" class=\"sk-top-container\"><div class=\"sk-text-repr-fallback\"><pre>GradientBoostingClassifier(n_estimators=50, random_state=42)</pre><b>In a Jupyter environment, please rerun this cell to show the HTML representation or trust the notebook. <br />On GitHub, the HTML representation is unable to render, please try loading this page with nbviewer.org.</b></div><div class=\"sk-container\" hidden><div class=\"sk-item\"><div class=\"sk-estimator sk-toggleable\"><input class=\"sk-toggleable__control sk-hidden--visually\" id=\"sk-estimator-id-4\" type=\"checkbox\" checked><label for=\"sk-estimator-id-4\" class=\"sk-toggleable__label sk-toggleable__label-arrow\">GradientBoostingClassifier</label><div class=\"sk-toggleable__content\"><pre>GradientBoostingClassifier(n_estimators=50, random_state=42)</pre></div></div></div></div></div>"
            ],
            "text/plain": [
              "GradientBoostingClassifier(n_estimators=50, random_state=42)"
            ]
          },
          "execution_count": 103,
          "metadata": {},
          "output_type": "execute_result"
        }
      ],
      "source": [
        "# Gradient Boosting Model\n",
        "gb_model = GradientBoostingClassifier(n_estimators=50, random_state=42)\n",
        "gb_model.fit(x_train_tfidf, y_train)"
      ]
    },
    {
      "cell_type": "code",
      "execution_count": null,
      "id": "ae51920e-3e5d-4f42-b3ac-1d4fa7d1db88",
      "metadata": {
        "id": "ae51920e-3e5d-4f42-b3ac-1d4fa7d1db88",
        "outputId": "30b47b7f-3ed9-4411-95fb-991269fc198e"
      },
      "outputs": [
        {
          "name": "stdout",
          "output_type": "stream",
          "text": [
            "Gradient Boosting - Training Accuracy: 0.9955114124725433\n",
            "Gradient Boosting - Validation Accuracy: 0.9939105896331502\n",
            "Gradient Boosting - Test Accuracy: 0.9946524064171123\n"
          ]
        }
      ],
      "source": [
        "# Predictions for Gradient Boosting\n",
        "y_train_pred_gb = gb_model.predict(x_train_tfidf)\n",
        "y_val_pred_gb = gb_model.predict(x_val_tfidf)\n",
        "y_test_pred_gb = gb_model.predict(x_test_tfidf)\n",
        "\n",
        "# Accuracy Metrics for Gradient Boosting\n",
        "train_accuracy_gb = accuracy_score(y_train, y_train_pred_gb)\n",
        "val_accuracy_gb = accuracy_score(y_val, y_val_pred_gb)\n",
        "test_accuracy_gb = accuracy_score(y_test, y_test_pred_gb)\n",
        "\n",
        "print(\"Gradient Boosting - Training Accuracy:\", train_accuracy_gb)\n",
        "print(\"Gradient Boosting - Validation Accuracy:\", val_accuracy_gb)\n",
        "print(\"Gradient Boosting - Test Accuracy:\", test_accuracy_gb)"
      ]
    },
    {
      "cell_type": "code",
      "execution_count": null,
      "id": "6bdc1207-274e-4cba-a163-2d11ecf35d6b",
      "metadata": {
        "id": "6bdc1207-274e-4cba-a163-2d11ecf35d6b",
        "outputId": "859f3d02-5651-446f-fb47-c6bdfd5c1efc"
      },
      "outputs": [
        {
          "name": "stdout",
          "output_type": "stream",
          "text": [
            "Gradient Boosting - Training Loss: 0.02211599294294748\n",
            "Gradient Boosting - Validation Loss: 0.02967750039464241\n",
            "Gradient Boosting - Test Loss: 0.027144486572932777\n"
          ]
        }
      ],
      "source": [
        "# Probabilities for Gradient Boosting (needed for log_loss)\n",
        "y_train_pred_proba_gb = gb_model.predict_proba(x_train_tfidf)\n",
        "y_val_pred_proba_gb = gb_model.predict_proba(x_val_tfidf)\n",
        "y_test_pred_proba_gb = gb_model.predict_proba(x_test_tfidf)\n",
        "\n",
        "# Loss Metrics for Gradient Boosting\n",
        "train_loss_gb = log_loss(y_train, y_train_pred_proba_gb)\n",
        "val_loss_gb = log_loss(y_val, y_val_pred_proba_gb)\n",
        "test_loss_gb = log_loss(y_test, y_test_pred_proba_gb)\n",
        "\n",
        "# Print Loss Metrics for Gradient Boosting\n",
        "print(\"Gradient Boosting - Training Loss:\", train_loss_gb)\n",
        "print(\"Gradient Boosting - Validation Loss:\", val_loss_gb)\n",
        "print(\"Gradient Boosting - Test Loss:\", test_loss_gb)"
      ]
    },
    {
      "cell_type": "code",
      "execution_count": null,
      "id": "d6f52700-09aa-4fe9-b928-9fa2778e651b",
      "metadata": {
        "id": "d6f52700-09aa-4fe9-b928-9fa2778e651b",
        "outputId": "d80c9cb5-e4b5-4f66-a34e-9c2e373d19b6"
      },
      "outputs": [
        {
          "name": "stdout",
          "output_type": "stream",
          "text": [
            "\n",
            "Classification Report - Gradient Boosting:\n",
            "              precision    recall  f1-score   support\n",
            "\n",
            "           0       1.00      0.99      0.99      3521\n",
            "           1       0.99      1.00      0.99      3212\n",
            "\n",
            "    accuracy                           0.99      6733\n",
            "   macro avg       0.99      0.99      0.99      6733\n",
            "weighted avg       0.99      0.99      0.99      6733\n",
            "\n"
          ]
        }
      ],
      "source": [
        "# Classification Report for Gradient Boosting\n",
        "print(\"\\nClassification Report - Gradient Boosting:\")\n",
        "print(classification_report(y_val, y_val_pred_gb))"
      ]
    },
    {
      "cell_type": "code",
      "execution_count": null,
      "id": "d49064b8-35e5-4095-b1cb-f3a53ea5e5a3",
      "metadata": {
        "id": "d49064b8-35e5-4095-b1cb-f3a53ea5e5a3",
        "outputId": "683164c8-6ca6-42fb-88c2-cd5de2668d4a"
      },
      "outputs": [
        {
          "data": {
            "image/png": "[encoded data removed]",
            "text/plain": [
              "<Figure size 800x600 with 2 Axes>"
            ]
          },
          "metadata": {},
          "output_type": "display_data"
        }
      ],
      "source": [
        "# Display the Confusion Matrix for Validation Set - Gradient Boosting\n",
        "cm_gb = confusion_matrix(y_val, y_val_pred_gb)  # Use predictions from the Gradient Boosting model\n",
        "\n",
        "plt.figure(figsize=(8, 6))\n",
        "sns.heatmap(cm_gb, annot=True, fmt='d', cmap='Blues', xticklabels=set(y_val), yticklabels=set(y_val))\n",
        "plt.title(\"Confusion Matrix - Gradient Boosting\")\n",
        "plt.xlabel(\"Predicted Labels\")\n",
        "plt.ylabel(\"True Labels\")\n",
        "plt.show()"
      ]
    },
    {
      "cell_type": "markdown",
      "id": "f94c8992-8816-4138-a8ca-03596c517b2b",
      "metadata": {
        "id": "f94c8992-8816-4138-a8ca-03596c517b2b"
      },
      "source": [
        "### Comparison of Model Accuracy Metrics"
      ]
    },
    {
      "cell_type": "code",
      "execution_count": null,
      "id": "ef553da8-fd3b-4026-9ee3-95c3748bb3f0",
      "metadata": {
        "id": "ef553da8-fd3b-4026-9ee3-95c3748bb3f0",
        "outputId": "5d4d1fab-50e4-4a59-b269-482317961bae"
      },
      "outputs": [
        {
          "name": "stdout",
          "output_type": "stream",
          "text": [
            "Comparison of Model Accuracy Metrics\n",
            "╒═════════════════════╤═════════════════════╤═══════════════════════╤═════════════════╕\n",
            "│                     │   Training Accuracy │   Validation Accuracy │   Test Accuracy │\n",
            "╞═════════════════════╪═════════════════════╪═══════════════════════╪═════════════════╡\n",
            "│ Logistic Regression │            0.987426 │              0.983217 │        0.985443 │\n",
            "├─────────────────────┼─────────────────────┼───────────────────────┼─────────────────┤\n",
            "│ Decision Tree       │            1        │              0.995247 │        0.994058 │\n",
            "├─────────────────────┼─────────────────────┼───────────────────────┼─────────────────┤\n",
            "│ Random Forest       │            1        │              0.996435 │        0.996583 │\n",
            "├─────────────────────┼─────────────────────┼───────────────────────┼─────────────────┤\n",
            "│ Gradient Boosting   │            0.995511 │              0.993911 │        0.994652 │\n",
            "╘═════════════════════╧═════════════════════╧═══════════════════════╧═════════════════╛\n",
            "                     Training Accuracy  Validation Accuracy  Test Accuracy\n",
            "Logistic Regression           0.987426             0.983217       0.985443\n",
            "Decision Tree                 1.000000             0.995247       0.994058\n",
            "Random Forest                 1.000000             0.996435       0.996583\n",
            "Gradient Boosting             0.995511             0.993911       0.994652\n"
          ]
        }
      ],
      "source": [
        "# Title for the comparison table\n",
        "print(\"Comparison of Model Accuracy Metrics\")\n",
        "\n",
        "# Define model names\n",
        "model_names = ['Logistic Regression', 'Decision Tree', 'Random Forest', 'Gradient Boosting']\n",
        "\n",
        "# Collect accuracy metrics (Training, Validation, and Test Accuracy) for each model\n",
        "metrics = [\n",
        "    [train_accuracy_lr, val_accuracy_lr, test_accuracy_lr],  # Logistic Regression\n",
        "    [train_accuracy_dt, val_accuracy_dt, test_accuracy_dt],  # Decision Tree\n",
        "    [train_accuracy_rf, val_accuracy_rf, test_accuracy_rf],  # Random Forest\n",
        "    [train_accuracy_gb, val_accuracy_gb, test_accuracy_gb]   # Gradient Boosting\n",
        "]\n",
        "\n",
        "# Create a DataFrame to better organize and display the accuracy metrics\n",
        "comparison_table = pd.DataFrame(metrics, columns=['Training Accuracy', 'Validation Accuracy', 'Test Accuracy'], index=model_names)\n",
        "\n",
        "# Display the comparison table in a neat format using 'tabulate'\n",
        "print(tabulate(comparison_table, headers='keys', tablefmt='fancy_grid'))\n",
        "\n",
        "# print the table as a pandas DataFrame\n",
        "print(comparison_table)"
      ]
    },
    {
      "cell_type": "markdown",
      "id": "78469a83-24e0-498d-9385-e56a12f64612",
      "metadata": {
        "id": "78469a83-24e0-498d-9385-e56a12f64612"
      },
      "source": [
        "### Comparison of Model Loss Metrics"
      ]
    },
    {
      "cell_type": "code",
      "execution_count": null,
      "id": "4eecc40c-2bba-4720-9634-247229123ebc",
      "metadata": {
        "id": "4eecc40c-2bba-4720-9634-247229123ebc",
        "outputId": "53ebb293-812a-4c44-b096-6574f3d44a66"
      },
      "outputs": [
        {
          "name": "stdout",
          "output_type": "stream",
          "text": [
            "Comparison of Model Loss Metrics\n",
            "╒═════════════════════╤═════════════════╤═══════════════════╤═════════════╕\n",
            "│                     │   Training Loss │   Validation Loss │   Test Loss │\n",
            "╞═════════════════════╪═════════════════╪═══════════════════╪═════════════╡\n",
            "│ Logistic Regression │     0.066518    │         0.0751311 │   0.0704944 │\n",
            "├─────────────────────┼─────────────────┼───────────────────┼─────────────┤\n",
            "│ Decision Tree       │     2.22045e-16 │         0.171305  │   0.214163  │\n",
            "├─────────────────────┼─────────────────┼───────────────────┼─────────────┤\n",
            "│ Random Forest       │     0.0267909   │         0.0836973 │   0.0773199 │\n",
            "├─────────────────────┼─────────────────┼───────────────────┼─────────────┤\n",
            "│ Gradient Boosting   │     0.022116    │         0.0296775 │   0.0271445 │\n",
            "╘═════════════════════╧═════════════════╧═══════════════════╧═════════════╛\n",
            "                     Training Loss  Validation Loss  Test Loss\n",
            "Logistic Regression   6.651801e-02         0.075131   0.070494\n",
            "Decision Tree         2.220446e-16         0.171305   0.214163\n",
            "Random Forest         2.679092e-02         0.083697   0.077320\n",
            "Gradient Boosting     2.211599e-02         0.029678   0.027144\n"
          ]
        }
      ],
      "source": [
        "# Title for the comparison table\n",
        "print(\"Comparison of Model Loss Metrics\")\n",
        "\n",
        "# Define model names\n",
        "model_names = ['Logistic Regression', 'Decision Tree', 'Random Forest', 'Gradient Boosting']\n",
        "\n",
        "# Collect loss metrics (Training, Validation, and Test Loss) for each model\n",
        "loss_metrics = [\n",
        "    [train_loss_lr, val_loss_lr, test_loss_lr],  # Logistic Regression\n",
        "    [train_loss_dt, val_loss_dt, test_loss_dt],  # Decision Tree\n",
        "    [train_loss_rf, val_loss_rf, test_loss_rf],  # Random Forest\n",
        "    [train_loss_gb, val_loss_gb, test_loss_gb]   # Gradient Boosting\n",
        "]\n",
        "\n",
        "# Create a DataFrame to better organize and display the loss metrics\n",
        "loss_comparison_table = pd.DataFrame(loss_metrics, columns=['Training Loss', 'Validation Loss', 'Test Loss'], index=model_names)\n",
        "\n",
        "# Display the loss comparison table in a neat format using 'tabulate'\n",
        "print(tabulate(loss_comparison_table, headers='keys', tablefmt='fancy_grid'))\n",
        "\n",
        "# Print the table as a pandas DataFrame\n",
        "print(loss_comparison_table)"
      ]
    },
    {
      "cell_type": "markdown",
      "id": "97321d63-a330-4f34-a2ec-e5b1f348f885",
      "metadata": {
        "id": "97321d63-a330-4f34-a2ec-e5b1f348f885"
      },
      "source": [
        "### Model Testing"
      ]
    },
    {
      "cell_type": "code",
      "execution_count": null,
      "id": "b6297203-5a2c-4d88-91af-4b58ebc929be",
      "metadata": {
        "id": "b6297203-5a2c-4d88-91af-4b58ebc929be",
        "outputId": "d1badf9d-75c2-4ba5-bdcf-081e703910c8"
      },
      "outputs": [
        {
          "name": "stdout",
          "output_type": "stream",
          "text": [
            "21st Century Wire says This week, the historic international Iranian Nuclear Deal was punctuated by a two-way prisoner swap between Washington and Tehran, but it didn t end quite the way everyone expected. On the Iranian side, one of the U.S. citizens who was detained in Iran, Nosratollah Khosravi-Roodsari, has stayed in Iran, but on the U.S. side   all 7 of the Iranians held in U.S. prisons DID NOT show up to their flight to Geneva for the prisoner exchange   with at least 3 electing to stay in the U.S  TEHRAN SIDE: In Iran, 5 U.S. prisoners were released, with 4 of them making their way to Germany via Switzerland.Will Robinson Daily MailNone of the Iranians freed in the prisoner swap have returned home and could still be in the United States, it has been reported.The seven former inmates, who were released as part of a deal with the Islamic republic, did not show up to get a flight to Geneva, Switzerland, where the exchange was set to take place on Sunday.Three of the Iranians have decided to stay in the United States, ABC reported, with some moving in with their families. However it is not known where the other four are.Three of the Americans who had been detained in Iran   Washington Post journalist Jason Rezaian, former U.S. Marine Amir Hekmati and Christian pastor Saeed Abedini   left Tehran at around 7am the same day, but weren t met by their counterparts in Switzerland Continue this story at the Mail OnlineREAD MORE IRAN NEWS AT: 21st Century Wire Iran Files\n"
          ]
        }
      ],
      "source": [
        "# Read the CSV file\n",
        "df = pd.read_csv('manual_testing.csv')\n",
        "\n",
        "# Filter rows where class value is 0\n",
        "class_1_rows = df[df['class'] == 0]\n",
        "\n",
        "# Print a text with class value 0)\n",
        "print(class_1_rows.iloc[0]['text'])"
      ]
    },
    {
      "cell_type": "code",
      "execution_count": null,
      "id": "c67116f2-cedc-4f8c-b138-d919d9a68941",
      "metadata": {
        "id": "c67116f2-cedc-4f8c-b138-d919d9a68941",
        "outputId": "0e69fd85-44f8-4f2e-8585-0e1cbddcb484"
      },
      "outputs": [
        {
          "name": "stdout",
          "output_type": "stream",
          "text": [
            "SAO PAULO (Reuters) - Cesar Mata Pires, the owner and co-founder of Brazilian engineering conglomerate OAS SA, one of the largest companies involved in Brazil s corruption scandal, died on Tuesday. He was 68. Mata Pires died of a heart attack while taking a morning walk in an upscale district of S o Paulo, where OAS is based, a person with direct knowledge of the matter said. Efforts to contact his family were unsuccessful. OAS declined to comment. The son of a wealthy cattle rancher in the northeastern state of Bahia, Mata Pires  links to politicians were central to the expansion of OAS, which became Brazil s No. 4 builder earlier this decade, people familiar with his career told Reuters last year. His big break came when he befriended Antonio Carlos Magalh es, a popular politician who was Bahia governor several times, and eventually married his daughter Tereza. Brazilians joked that OAS stood for  Obras Arranjadas pelo Sogro  - or  Work Arranged by the Father-In-Law.   After years of steady growth triggered by a flurry of massive government contracts, OAS was ensnared in Operation Car Wash which unearthed an illegal contracting ring between state firms and builders. The ensuing scandal helped topple former Brazilian President Dilma Rousseff last year. Trained as an engineer, Mata Pires founded OAS with two colleagues in 1976 to do sub-contracting work for larger rival Odebrecht SA - the biggest of the builders involved in the probe.  Before the scandal, Forbes magazine estimated Mata Pires  fortune at $1.6 billion. He dropped off the magazine s billionaire list in 2015, months after OAS sought bankruptcy protection after the Car Wash scandal. While Mata Pires was never accused of wrongdoing in the investigations, creditors demanded he and his family stay away from the builder s day-to-day operations, people directly involved in the negotiations told Reuters at the time. He is survived by his wife and his two sons.         \n"
          ]
        }
      ],
      "source": [
        "# Read the CSV file\n",
        "df = pd.read_csv('manual_testing.csv')\n",
        "\n",
        "# Filter rows where class value is 0\n",
        "class_1_rows = df[df['class'] == 1]\n",
        "\n",
        "# Print a text with class value 0)\n",
        "print(class_1_rows.iloc[0]['text'])"
      ]
    },
    {
      "cell_type": "code",
      "execution_count": null,
      "id": "cc07c77d-ac50-4669-897d-84cbeba8ada4",
      "metadata": {
        "id": "cc07c77d-ac50-4669-897d-84cbeba8ada4",
        "outputId": "3cfbbaff-55d6-47e0-c91d-8ee5db0fe9f4"
      },
      "outputs": [
        {
          "name": "stdin",
          "output_type": "stream",
          "text": [
            "Enter news text for testing:  21st Century Wire says This week, the historic international Iranian Nuclear Deal was punctuated by a two-way prisoner swap between Washington and Tehran, but it didn t end quite the way everyone expected. On the Iranian side, one of the U.S. citizens who was detained in Iran, Nosratollah Khosravi-Roodsari, has stayed in Iran, but on the U.S. side   all 7 of the Iranians held in U.S. prisons DID NOT show up to their flight to Geneva for the prisoner exchange   with at least 3 electing to stay in the U.S  TEHRAN SIDE: In Iran, 5 U.S. prisoners were released, with 4 of them making their way to Germany via Switzerland.Will Robinson Daily MailNone of the Iranians freed in the prisoner swap have returned home and could still be in the United States, it has been reported.The seven former inmates, who were released as part of a deal with the Islamic republic, did not show up to get a flight to Geneva, Switzerland, where the exchange was set to take place on Sunday.Three of the Iranians have decided to stay in the United States, ABC reported, with some moving in with their families. However it is not known where the other four are.Three of the Americans who had been detained in Iran   Washington Post journalist Jason Rezaian, former U.S. Marine Amir Hekmati and Christian pastor Saeed Abedini   left Tehran at around 7am the same day, but weren t met by their counterparts in Switzerland Continue this story at the Mail OnlineREAD MORE IRAN NEWS AT: 21st Century Wire Iran Files\n"
          ]
        },
        {
          "name": "stdout",
          "output_type": "stream",
          "text": [
            "\n",
            "Predictions:\n",
            "Logistic Regression:  Fake News\n",
            "Decision Tree:  Fake News\n",
            "Random Forest:  Fake News\n",
            "Gradient Boosting:  Fake News\n"
          ]
        }
      ],
      "source": [
        "def output_label(n):\n",
        "    if n == 0:\n",
        "        return \"Fake News\"\n",
        "    else:\n",
        "        return \"True News\"\n",
        "\n",
        "def manual_testing(news):\n",
        "    testing_news = {\"text\":[news]}\n",
        "    new_def_test = pd.DataFrame(testing_news)\n",
        "    new_def_test[\"text\"] = new_def_test[\"text\"].apply(clean_text)  # Process the text\n",
        "    new_x_test = new_def_test[\"text\"]\n",
        "    new_xv_test = tfidf_vectorizer.transform(new_x_test)  # Convert text to vectors\n",
        "\n",
        "    # Predictions\n",
        "    pred_LR = logistic_model.predict(new_xv_test)\n",
        "    pred_DT = decision_tree_model.predict(new_xv_test)\n",
        "    pred_RF = rf_model.predict(new_xv_test)\n",
        "    pred_GB = gb_model.predict(new_xv_test)\n",
        "\n",
        "    # Print predictions\n",
        "    print(\"\\nPredictions:\")\n",
        "    print(\"Logistic Regression: \", output_label(pred_LR[0]))\n",
        "    print(\"Decision Tree: \", output_label(pred_DT[0]))\n",
        "    print(\"Random Forest: \", output_label(pred_RF[0]))\n",
        "    print(\"Gradient Boosting: \", output_label(pred_GB[0]))\n",
        "\n",
        "# Get news text from the user and make predictions\n",
        "news = str(input(\"Enter news text for testing: \"))\n",
        "manual_testing(news)"
      ]
    },
    {
      "cell_type": "code",
      "execution_count": null,
      "id": "2b54ab49-dc80-44f8-ab9e-de864ced181e",
      "metadata": {
        "id": "2b54ab49-dc80-44f8-ab9e-de864ced181e",
        "outputId": "76f0a538-102e-43b4-ddbf-62b099e096a3"
      },
      "outputs": [
        {
          "name": "stdin",
          "output_type": "stream",
          "text": [
            "Enter news text for testing:  SAO PAULO (Reuters) - Cesar Mata Pires, the owner and co-founder of Brazilian engineering conglomerate OAS SA, one of the largest companies involved in Brazil s corruption scandal, died on Tuesday. He was 68. Mata Pires died of a heart attack while taking a morning walk in an upscale district of S o Paulo, where OAS is based, a person with direct knowledge of the matter said. Efforts to contact his family were unsuccessful. OAS declined to comment. The son of a wealthy cattle rancher in the northeastern state of Bahia, Mata Pires  links to politicians were central to the expansion of OAS, which became Brazil s No. 4 builder earlier this decade, people familiar with his career told Reuters last year. His big break came when he befriended Antonio Carlos Magalh es, a popular politician who was Bahia governor several times, and eventually married his daughter Tereza. Brazilians joked that OAS stood for  Obras Arranjadas pelo Sogro  - or  Work Arranged by the Father-In-Law.   After years of steady growth triggered by a flurry of massive government contracts, OAS was ensnared in Operation Car Wash which unearthed an illegal contracting ring between state firms and builders. The ensuing scandal helped topple former Brazilian President Dilma Rousseff last year. Trained as an engineer, Mata Pires founded OAS with two colleagues in 1976 to do sub-contracting work for larger rival Odebrecht SA - the biggest of the builders involved in the probe.  Before the scandal, Forbes magazine estimated Mata Pires  fortune at $1.6 billion. He dropped off the magazine s billionaire list in 2015, months after OAS sought bankruptcy protection after the Car Wash scandal. While Mata Pires was never accused of wrongdoing in the investigations, creditors demanded he and his family stay away from the builder s day-to-day operations, people directly involved in the negotiations told Reuters at the time. He is survived by his wife and his two sons. \n"
          ]
        },
        {
          "name": "stdout",
          "output_type": "stream",
          "text": [
            "\n",
            "Predictions:\n",
            "Logistic Regression:  True News\n",
            "Decision Tree:  True News\n",
            "Random Forest:  True News\n",
            "Gradient Boosting:  True News\n"
          ]
        }
      ],
      "source": [
        "# Get news text from the user and make predictions\n",
        "news = str(input(\"Enter news text for testing: \"))\n",
        "manual_testing(news)"
      ]
    },
    {
      "cell_type": "markdown",
      "id": "029ed549-dd67-4335-a933-7bbcc5ebc3bb",
      "metadata": {
        "id": "029ed549-dd67-4335-a933-7bbcc5ebc3bb"
      },
      "source": [
        "### Conclusion"
      ]
    },
    {
      "cell_type": "markdown",
      "id": "85c7f23f-b75d-4d47-ab67-92dcda392bb3",
      "metadata": {
        "id": "85c7f23f-b75d-4d47-ab67-92dcda392bb3"
      },
      "source": [
        "In this project, titled \"Fake News Detection with Machine Learning Models,\" I aimed to explore different machine learning models and evaluate their ability to detect fake news. First, I preprocessed the dataset by cleaning the text, handling missing values, and converting categorical data into numerical format. This step was crucial to ensure the data could be effectively used by machine learning models.\n",
        "\n",
        "After preprocessing, I trained four different models: Logistic Regression, Decision Tree, Random Forest, and Gradient Boosting. I evaluated the performance of each model using training, validation, and test accuracy. The Logistic Regression model gave good results, but its test accuracy was slightly lower compared to the other models. The Decision Tree model performed excellently during training but showed overfitting, leading to lower performance on the test set. The Random Forest model achieved the highest test accuracy at 99.66%, performing the best overall. Gradient Boosting also performed well, with results close to Random Forest.\n",
        "\n",
        "In conclusion, the Random Forest model provided the best fake news detection performance. However, each model has its strengths and weaknesses, and the choice of the right model depends on the dataset and the specific needs of the project. This project helped me understand how the right model choice can significantly impact performance and how results can vary depending on the algorithm used."
      ]
    }
  ],
  "metadata": {
    "kernelspec": {
      "display_name": "Python 3 (ipykernel)",
      "language": "python",
      "name": "python3"
    },
    "language_info": {
      "codemirror_mode": {
        "name": "ipython",
        "version": 3
      },
      "file_extension": ".py",
      "mimetype": "text/x-python",
      "name": "python",
      "nbconvert_exporter": "python",
      "pygments_lexer": "ipython3",
      "version": "3.11.5"
    },
    "colab": {
      "provenance": [],
      "include_colab_link": true
    }
  },
  "nbformat": 4,
  "nbformat_minor": 5
}